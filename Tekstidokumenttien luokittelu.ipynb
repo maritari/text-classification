{
 "cells": [
  {
   "cell_type": "markdown",
   "metadata": {},
   "source": [
    "# Tekstidokumenttien luokittelu\n",
    "Tässä työkirjassa esitellään luonnollisen kielen prosessointiin (NLP) perustuvaa tekstidokumenttien luokittelua. Olen kirjoittanut työkirjan perehdytysmateriaaliksi työyhteisöni jäsenille, jotka ovat kiinnostuneita koneoppimisesta ja luonnollien kielen käsittelystä, mutta joilla ei ole niistä aiempaa kokemusta. Tavoitteenani on auttaa heitä saavuttamaan perustason ymmärrys, mistä asiassa on kyse ja samalla mahdollisesti kannustaa kokeilemaan myös itse. Työkirjaa voi halutesaan huoletta lukea hyppäämällä koodiosuuksien yli. Koodin ymmärtäminen ei ole välttämätöntä tekstidoumenttien luokittelun perusteiden ymmärtämisen kannalta.\n",
    "\n",
    "Luonnollisella kielellä tarkoitetaan kieltä, jonka alkuperää ei tiedetä (esim. suomi, ruotsi, englanti). Vastaavasti esimerkiksi ohjelmointikielet ovat keinotekoisia kieliä. \n",
    "\n",
    "Luokittelussa käytetään ohjattua koneoppimista. Ohjatussa oppimisessa tarvitaan aina mahdollisimman hyvin todellisuutta vastaava, riittävän suuri koulutusaineisto, jossa jokaiselle koulutusaineiston esimerkille on talletettu myös sen oikean luokan arvo. Koulutuksen aikana koneoppimisalgoritmi optimoi ennustemallin sovittamalla sen koulutusaineistoon. Tavoitteena on, että tuloksena saatava malli osaisi mahdollisimman luotettavasti ennustaa oikean luokan sellaisille dokumenteille, joita se ei ole opetusvaiheessa nähnyt.\n",
    "\n",
    "Työkirjan alkuosassa hyödynnetään tavallisella kannettavalla Windows-koneella (ei grafiikkasuoritinta, GPU) helposti käyttöönotettavia luonnollisen kielen prosessointiin kehitettyjä Python-koneoppimiskirjastoja. Nämä kirjastot on helppo ladata omalle tietokoneelle esimerkiksi osana open-source Anaconda-jakelua (https://www.anaconda.com/distribution/). \n",
    "\n",
    "Myös yksinkertaisia neuroverkkoja on mahdollista opettaa tavallisella kotikoneella. Suurten datamäärien ja syvempien neuroverkkojen kouluttaminen vaatii kuitenkin muistia ja laskentakapasiteettia peruskotikonetta enemmän. Työkirjan lopussa hyödynnetäänkin neuroverkkojen kouluttamiseen CSC:n yliopistoille tarjoamaa Puhti-supertietokonetta (https://www.csc.fi/-/supertietokone-puhti-on-avattu-tutkijoiden-kayttoon).\n",
    "\n",
    "Työkirja on tehty käyttäen interaktiivista Jupyter Notebookia (https://jupyter.org/), joka on selaimella käytettävä ohjelmointityökalu. Myös Jupyter Notebook asentuu automaattisesti osana Anaconda-jakelua. Työkirjaa voi joko lukea valmiina dokumenttina tai sen koodisoluja voi (muokata ja) ajaa itse, jolloin uudet ajotulokset korvaavat vanhat.\n",
    "\n",
    "\n",
    "## 1. Käytetyt kirjastot\n",
    "Kaikki työkirjassa käytetyt Python-kirjastot on kerätty tähän työkirjan alkuun, jotta ne olisi kätevästi ladatattavissa keskusmuistiin, heti kun työkirja avataan. \n",
    "\n",
    "Tällä hetkellä Pythonin uusin versio on 3.8.0, joka on julkaistu 14.10.2019 (https://www.python.org/downloads/release/python-380/).  Kuitenkin monipuolinen luonnollisen kielen käsittelyyn kehitetty NLTK-kirjasto toimii korkeintaan Pythonin versiolla 3.7 (https://www.nltk.org/install.html) ja neuroverkkojen opettamiseen kehitetty Keras on yhteensopiva vain Pythonin versioiden 2.7-3.6 kanssa (https://keras.io/). Siksi käytän työkirjan alkuosassa Pythonin versiota 3.7 ja loppuosassa versiota 3.6. Käytännössä minulla on siis Anacondan avulla asennettuna kaksi ympäristöä, joista valitsen sopivan jo ennen työkirjan (Jupyter Notebook) avaamista. Kun haluan vaihtaa toiseen ympäristöön, suljen työkirjan, valitsen Anacondassa uuden ympäristön ja avaan siitä ympäristöstä työkirjan uudelleen. Tämän jälkeen ajan työkirjan alusta vain siinä ympäristössä käyttämäni kirjastot."
   ]
  },
  {
   "cell_type": "code",
   "execution_count": 2,
   "metadata": {},
   "outputs": [],
   "source": [
    "import numpy as np \n",
    "import matplotlib.pyplot as plt\n",
    "import pandas as pd\n",
    "import math\n",
    "from sklearn.feature_extraction.text import CountVectorizer\n",
    "from sklearn.feature_extraction.text import TfidfTransformer\n",
    "from sklearn.feature_extraction.text import TfidfVectorizer\n",
    "from sklearn.pipeline import Pipeline\n",
    "from sklearn.naive_bayes import MultinomialNB\n",
    "from sklearn.metrics import confusion_matrix\n",
    "from sklearn.svm import LinearSVC\n",
    "from sklearn.linear_model import SGDClassifier\n",
    "from sklearn.preprocessing import StandardScaler\n",
    "from sklearn.model_selection import GridSearchCV\n",
    "from sklearn.preprocessing import LabelEncoder, OneHotEncoder"
   ]
  },
  {
   "cell_type": "code",
   "execution_count": 2,
   "metadata": {},
   "outputs": [],
   "source": [
    "# käytän Python 3.7.0 kanssa\n",
    "import nltk\n",
    "# nltk.download('punkt') täytyy ladata vain kertaalleen"
   ]
  },
  {
   "cell_type": "code",
   "execution_count": 3,
   "metadata": {},
   "outputs": [
    {
     "name": "stderr",
     "output_type": "stream",
     "text": [
      "Using TensorFlow backend.\n"
     ]
    }
   ],
   "source": [
    "# käytän Python 3.6.8 kanssa, koska yhteentoimivuutta ei luvata uudempien versioiden kanssa.\n",
    "from keras import models\n",
    "from keras import layers\n",
    "from keras.utils import to_categorical\n",
    "from keras.callbacks import EarlyStopping\n",
    "from keras import optimizers\n",
    "from gensim.models import KeyedVectors\n",
    "from keras.preprocessing.text import Tokenizer\n",
    "from keras.preprocessing.sequence import pad_sequences\n",
    "#import gensim"
   ]
  },
  {
   "cell_type": "markdown",
   "metadata": {},
   "source": [
    "Jotta en pidempien taukojen jälkeen joutuisi aloittamaan aina koko työkirjan ajamista alusta, olen lisännyt tähän alkuun myös tärkeiden myöhemmässä vaiheessa laskettavien vektoreiden lataamisen muistista. "
   ]
  },
  {
   "cell_type": "code",
   "execution_count": 12,
   "metadata": {},
   "outputs": [],
   "source": [
    "X_train = np.load('X_train.npy')\n",
    "y_train = np.load('y_train.npy')\n",
    "X_dev = np.load('X_dev.npy')\n",
    "y_dev = np.load('y_dev.npy')\n",
    "X_test = np.load('X_test.npy')\n",
    "y_test = np.load('y_test.npy')\n",
    "\n",
    "labels_train = np.load('labels_train.npy')\n",
    "labels_dev = np.load('labels_dev.npy')\n",
    "labels_test = np.load('labels_test.npy')\n",
    "\n",
    "Xpad_train = np.load('Xpad_train.npy')\n",
    "Xpad_dev = np.load('Xpad_dev.npy')\n",
    "Xpad_test = np.load('Xpad_test.npy')\n",
    "\n",
    "embmatrix = np.load('embmatrix.npy')\n",
    "embmatrix_all = np.load('embmatrix_all.npy')\n"
   ]
  },
  {
   "cell_type": "markdown",
   "metadata": {},
   "source": [
    "## 2. Luokitteluun käytettävä data\n",
    "Demodatana käytetään Kielipankin CC-BY-NC 4.0 lisenssillä jakamaa Ylilauta-korpusta (http://urn.fi/urn:nbn:fi:lb-2016101210), jota Turun yliopiston kieli- ja puheteknologian apulaisprofessori Sampo Pyysalo on edelleen muokannut yksinkertaiseen (aihe, teksti) TSV-muotoon ja tuottanut siitä menetelmien vertailuun tasapainotetun kymmenen luokan datasetin. Käytetty aineisto on saatavilla täältä: https://github.com/spyysalo/ylilauta-corpus.\n",
    "\n",
    "Ylilauta on anonyymi keskustelufoorumi, joka ei vaadi rekisteröitymistä tai nimimerkin käyttöä. Foorumi löytyy osoitteesta https://ylilauta.org/. Ylilauta-korpukseen on tallennettu kyseisen keskustelufoorumin keskustelupalstoja vuosilta 2014-2016. Tässä työssä käytettävään suppeampaan aineistoon on otettu sama määrä viestejä kymmenestä yleisimmin esiintyvästä aiheluokasta. Nämä aiheluokat ovat:\n",
    "1. Ajoneuvot\n",
    "2. Hikky (Hikikomero, masentuneiden ja sosiaalisesti syrjäytyneiden vertaistukiryhmä)\n",
    "3. Kuntosali\n",
    "4. Muoti\n",
    "5. Pelit\n",
    "6. Penkkiurheilu\n",
    "7. Politiikka\n",
    "8. Seksulaalisuus\n",
    "9. Sota\n",
    "10. Televisio            \n",
    "\n",
    "Aineisto on jaettu valmiiksi kolmeen osaan:\n",
    "* Koulutusdata erilaisten mallien kouluttamiseen: ylilauta-train.txt (10 000 kpl/aihe, yht 100.000 kpl)\n",
    "* Validointidata mallien parametrien optimoimiseen ja keskinäiseen vertailuun, jotta voidaan valita näistä paras: ylilauta-dev.txt (1 000 kpl/ aihe, yhteensä 10 000 kpl)\n",
    "* Testidata, jota käytetään parhaimmaksi valitun mallin luotettavuuden arviointiin: ylilauta-test.txt (1 000 kpl/ aihe, yhteensä 10 000 kpl)\n",
    "\n",
    "Koska käytämme validointiaineistoa hyperparametrien optimoimiseen ja parhaan mallin valitsemiseen, on syytä testata parhaan mallin luotettavuus aina täysin erillisellä testidatalla.\n",
    "\n",
    "Luetaan ensin kaikki kolme aineistoa datakehikoihin (Panda's dataframe: https://pandas.pydata.org/pandas-docs/stable/reference/api/pandas.DataFrame.html). Data tallentuu alkuperäisessä muodossaan sarakkeeseen 'original'. Tämän jälkeen erotetaan alkuperäisestä tekstistä erikseen aiheet (sarakkeeseen 'label') ja varsinaiset dokumenttien sisältötekstit (sarake 'text'). Varmistetaan myös viestien lukumäärät aiheittain.\n",
    "\n",
    "### 2.1 Koulutusdata"
   ]
  },
  {
   "cell_type": "code",
   "execution_count": 4,
   "metadata": {},
   "outputs": [
    {
     "name": "stdout",
     "output_type": "stream",
     "text": [
      "                                            original       label  \\\n",
      "0  __label__ajoneuvot Kattokaas bemarijonnet tää ...   ajoneuvot   \n",
      "1  __label__pelit http://www.gamespot.com/article...       pelit   \n",
      "2  __label__sota Miehittäjiä vastaan taistelevien...        sota   \n",
      "3  __label__ajoneuvot Sen jälkeen kun ST1 osti Sh...   ajoneuvot   \n",
      "4  __label__muoti Toisiksi alin vasemmalta näyttä...       muoti   \n",
      "5  __label__politiikka Väität , että perinteisest...  politiikka   \n",
      "6  __label__sota varmaa toi heppatyttö kersantti ...        sota   \n",
      "7  __label__kuntosali Tässä langassa kuvailemme t...   kuntosali   \n",
      "8  __label__politiikka Lisään vain , että mitään ...  politiikka   \n",
      "9  __label__sota En tiedä miten edes olisi mahdol...        sota   \n",
      "\n",
      "                                                text  \n",
      "0  Kattokaas bemarijonnet tää , ei taida teidän 3...  \n",
      "1  http://www.gamespot.com/articles/e3-2014-why-x...  \n",
      "2  Miehittäjiä vastaan taistelevien tahojen tavoi...  \n",
      "3  Sen jälkeen kun ST1 osti Shellin Suomen ja Ruo...  \n",
      "4  Toisiksi alin vasemmalta näyttää hyvältä . Ei ...  \n",
      "5  Väität , että perinteisestä vasemmistosta on v...  \n",
      "6  varmaa toi heppatyttö kersantti k ja kapteeni ...  \n",
      "7  Tässä langassa kuvailemme treenaamista haikuil...  \n",
      "8  Lisään vain , että mitään tilastoja ilokaasuke...  \n",
      "9  En tiedä miten edes olisi mahdollista pistää e...  \n"
     ]
    },
    {
     "data": {
      "text/plain": [
       "(100000, 3)"
      ]
     },
     "execution_count": 4,
     "metadata": {},
     "output_type": "execute_result"
    }
   ],
   "source": [
    "# luetaan data alkuperäisessä muodossaan ensimmäiseen sarakkeeseen (sarake numero 0):\n",
    "df_train = pd.read_csv('ylilauta-train.txt', sep='\\n', header = None)\n",
    "# erotetaan aihe eli luokka toiseen sarakkeeseen (sarake numero 1):\n",
    "df_train[1] = df_train[0].apply(lambda x: x.split()[0].split('_')[4].strip())\n",
    "# erotetaan sisältöteksti kolmanteen sarakkeeseen (sarake numero 2):\n",
    "df_train[2] = df_train[0].str.split(n=1).str[1]\n",
    "# annetaan sarakkeille nimet:\n",
    "df_train.columns = ['original','label','text']\n",
    "# tulostetaan 10 ensimmäistä riviä:\n",
    "print(df_train.head(10))\n",
    "# tulostetaan datakehikon muoto (100000 riviä, 3 saraketta):\n",
    "df_train.shape"
   ]
  },
  {
   "cell_type": "code",
   "execution_count": 5,
   "metadata": {},
   "outputs": [
    {
     "name": "stdout",
     "output_type": "stream",
     "text": [
      "Viestien lukumäärät aiheittain:\n",
      "seksuaalisuus    10000\n",
      "ajoneuvot        10000\n",
      "hikky            10000\n",
      "pelit            10000\n",
      "politiikka       10000\n",
      "televisio        10000\n",
      "sota             10000\n",
      "penkkiurheilu    10000\n",
      "kuntosali        10000\n",
      "muoti            10000\n",
      "Name: label, dtype: int64\n"
     ]
    }
   ],
   "source": [
    "df_cat = df_train.astype('category')\n",
    "df_cat['label']\n",
    "print('Viestien lukumäärät aiheittain:')\n",
    "print(df_train[\"label\"].value_counts())"
   ]
  },
  {
   "cell_type": "markdown",
   "metadata": {},
   "source": [
    "### 2.2 Validointidata"
   ]
  },
  {
   "cell_type": "code",
   "execution_count": 6,
   "metadata": {},
   "outputs": [
    {
     "name": "stdout",
     "output_type": "stream",
     "text": [
      "                                            original          label  \\\n",
      "0  __label__ajoneuvot Polttoöljyn tankkaaminen ja...      ajoneuvot   \n",
      "1  __label__kuntosali Voi mahoton ! Täällähän on ...      kuntosali   \n",
      "2  __label__penkkiurheilu Mutta tää peli on kyllä...  penkkiurheilu   \n",
      "3  __label__kuntosali Ei tosta kyllä olympia-taso...      kuntosali   \n",
      "4  __label__sota Jep , tota ei meenaa pikkasenkaa...           sota   \n",
      "5  __label__pelit 3-4 päivää oli jonotusta ja lag...          pelit   \n",
      "6  __label__muoti Tuo fraasi on jo yleinen vitsi ...          muoti   \n",
      "7  __label__politiikka >Oletko sinä erityisen arv...     politiikka   \n",
      "8  __label__televisio Seuraako muut nyymit tätä s...      televisio   \n",
      "9  __label__sota Jahas , niin kai sitten . Onko k...           sota   \n",
      "\n",
      "                                                text  \n",
      "0  Polttoöljyn tankkaaminen ja jopa sillä ajamine...  \n",
      "1  Voi mahoton ! Täällähän on jälleen vanha kunno...  \n",
      "2  Mutta tää peli on kyllä väsynyt paska , eilen ...  \n",
      "3  Ei tosta kyllä olympia-tasoon ole , vaikka hyv...  \n",
      "4  Jep , tota ei meenaa pikkasenkaan pulskempi ka...  \n",
      "5  3-4 päivää oli jonotusta ja lagia , sitten lop...  \n",
      "6  Tuo fraasi on jo yleinen vitsi vuonna 2014. ht...  \n",
      "7  >Oletko sinä erityisen arvokas kenellekään muu...  \n",
      "8  Seuraako muut nyymit tätä sarjaa ? Hyvää viihd...  \n",
      "9  Jahas , niin kai sitten . Onko kuninkaallisess...  \n"
     ]
    },
    {
     "data": {
      "text/plain": [
       "(10000, 3)"
      ]
     },
     "execution_count": 6,
     "metadata": {},
     "output_type": "execute_result"
    }
   ],
   "source": [
    "df_dev = pd.read_csv('ylilauta-dev.txt', sep='\\n', header = None)\n",
    "df_dev[1] = df_dev[0].apply(lambda x: x.split()[0].split('_')[4].strip())\n",
    "df_dev[2] = df_dev[0].str.split(n=1).str[1]\n",
    "df_dev.columns = ['original','label','text']\n",
    "print(df_dev.head(10))\n",
    "df_dev.shape"
   ]
  },
  {
   "cell_type": "code",
   "execution_count": 7,
   "metadata": {},
   "outputs": [
    {
     "name": "stdout",
     "output_type": "stream",
     "text": [
      "Viestien lukumäärät aiheittain:\n",
      "kuntosali        1000\n",
      "politiikka       1000\n",
      "hikky            1000\n",
      "penkkiurheilu    1000\n",
      "televisio        1000\n",
      "sota             1000\n",
      "muoti            1000\n",
      "seksuaalisuus    1000\n",
      "ajoneuvot        1000\n",
      "pelit            1000\n",
      "Name: label, dtype: int64\n"
     ]
    }
   ],
   "source": [
    "df_cat = df_dev.astype('category')\n",
    "df_cat['label']\n",
    "print('Viestien lukumäärät aiheittain:')\n",
    "print(df_dev[\"label\"].value_counts())"
   ]
  },
  {
   "cell_type": "markdown",
   "metadata": {},
   "source": [
    "### 2.3 Testidata"
   ]
  },
  {
   "cell_type": "code",
   "execution_count": 8,
   "metadata": {},
   "outputs": [
    {
     "name": "stdout",
     "output_type": "stream",
     "text": [
      "                                            original          label  \\\n",
      "0  __label__politiikka Kyllä kai tyypillinen kapi...     politiikka   \n",
      "1  __label__sota En suosittele sinne menemistä as...           sota   \n",
      "2  __label__hikky Tiedän yhden jampan joka on mui...          hikky   \n",
      "3  __label__penkkiurheilu No vaa kuka molaroi gam...  penkkiurheilu   \n",
      "4  __label__sota Tässä pitää tietää , että nuo lä...           sota   \n",
      "5  __label__penkkiurheilu Voidaan siirtyä neutraa...  penkkiurheilu   \n",
      "6  __label__seksuaalisuus >Exällä oli liian iso m...  seksuaalisuus   \n",
      "7  __label__politiikka >ok puukottaa toi tehtaanj...     politiikka   \n",
      "8  __label__politiikka Juutalaistyylinen tapa jyr...     politiikka   \n",
      "9  __label__muoti luultavasti babby ' s first haj...          muoti   \n",
      "\n",
      "                                                text  \n",
      "0  Kyllä kai tyypillinen kapitalisti ( yrittäjä )...  \n",
      "1  En suosittele sinne menemistä asenteella mitäh...  \n",
      "2  Tiedän yhden jampan joka on muinoin käyttänyt ...  \n",
      "3  No vaa kuka molaroi game sevenin ? Se nimittäi...  \n",
      "4  Tässä pitää tietää , että nuo lähetit valitaan...  \n",
      "5  Voidaan siirtyä neutraaliin oc-lankaan jos tää...  \n",
      "6  >Exällä oli liian iso muna , oisikohan se vaik...  \n",
      "7  >ok puukottaa toi tehtaanjohtaja koska se on t...  \n",
      "8  Juutalaistyylinen tapa jyrätä toiinajattelu al...  \n",
      "9  luultavasti babby ' s first hajuvesi eikä viel...  \n"
     ]
    },
    {
     "data": {
      "text/plain": [
       "(10000, 3)"
      ]
     },
     "execution_count": 8,
     "metadata": {},
     "output_type": "execute_result"
    }
   ],
   "source": [
    "df_test = pd.read_csv('ylilauta-test.txt', sep='\\n', header = None)\n",
    "df_test[1] = df_test[0].apply(lambda x: x.split()[0].split('_')[4].strip())\n",
    "df_test[2] = df_test[0].str.split(n=1).str[1]\n",
    "df_test.columns = ['original','label','text']\n",
    "print(df_test.head(10))\n",
    "df_test.shape"
   ]
  },
  {
   "cell_type": "code",
   "execution_count": 9,
   "metadata": {},
   "outputs": [
    {
     "name": "stdout",
     "output_type": "stream",
     "text": [
      "Viestien lukumäärät aiheittain:\n",
      "kuntosali        1000\n",
      "politiikka       1000\n",
      "hikky            1000\n",
      "penkkiurheilu    1000\n",
      "televisio        1000\n",
      "sota             1000\n",
      "muoti            1000\n",
      "seksuaalisuus    1000\n",
      "ajoneuvot        1000\n",
      "pelit            1000\n",
      "Name: label, dtype: int64\n"
     ]
    }
   ],
   "source": [
    "df_cat = df_test.astype('category')\n",
    "df_cat['label']\n",
    "print('Viestien lukumäärät aiheittain:')\n",
    "print(df_test[\"label\"].value_counts())"
   ]
  },
  {
   "cell_type": "markdown",
   "metadata": {},
   "source": [
    "## 3 Datasettien tokenisointi ja vektorisointi\n",
    "Koneoppimismenetelmät eivät osaa hyödyntää tekstimuotoista dataa sellaisenaan. Jotta luonnollista kieltä voitaisiin analysoida ja käsitellä koneoppimismenetelmin, siitä on ensin johdettava numeerisia vektorimuotoisia piirteitä. \n",
    "\n",
    "### 3.1 Tokenisointi NLTK-kirjaston avulla\n",
    "Ensimmäinen vaihe on tekstin tokenisointi, eli tekstin jakaminen sanoihin. Tokenisointiin voi käyttää esim. Natural Language Toolkit (NLTK)-kirjastosta löytyvää word_tokenize metodia. NLTK-kirjaston käyttöä on opetettu kattavasti kirjassa Natural Language Processing with Python – Analyzing Text with the Natural Language Toolkit, jonka ovat kirjoittaneet Steven Bird, Ewan Klein, and Edward Loper. Kirja on luettavissa kokonaisuudessaan osoitteessa https://www.nltk.org/book/."
   ]
  },
  {
   "cell_type": "code",
   "execution_count": 10,
   "metadata": {},
   "outputs": [],
   "source": [
    "df_train['tokenized'] = df_train['text'].apply(nltk.word_tokenize)"
   ]
  },
  {
   "cell_type": "code",
   "execution_count": 11,
   "metadata": {},
   "outputs": [
    {
     "name": "stdout",
     "output_type": "stream",
     "text": [
      "Ensimmäinen viesti ennen tokenisointia:\n",
      " Kattokaas bemarijonnet tää , ei taida teidän 316 tarjota ihan näin tasasta kyytiä . :D \n",
      "\n",
      "ja tokenisoinnin jälkeen:\n",
      " ['Kattokaas', 'bemarijonnet', 'tää', ',', 'ei', 'taida', 'teidän', '316', 'tarjota', 'ihan', 'näin', 'tasasta', 'kyytiä', '.', ':', 'D']\n"
     ]
    }
   ],
   "source": [
    "print('Ensimmäinen viesti ennen tokenisointia:\\n', df_train['text'][0], '\\n')\n",
    "print('ja tokenisoinnin jälkeen:\\n', df_train['tokenized'][0])"
   ]
  },
  {
   "cell_type": "markdown",
   "metadata": {},
   "source": [
    "Jotta esim. Kissa ja kissa laskettaisiin jatkossa samaksi sanaksi, muutetaan kaikki isot kirjaimet pieniksi."
   ]
  },
  {
   "cell_type": "code",
   "execution_count": 12,
   "metadata": {},
   "outputs": [
    {
     "name": "stdout",
     "output_type": "stream",
     "text": [
      "Kaikki pienin kirjaimin:\n",
      " ['kattokaas', 'bemarijonnet', 'tää', ',', 'ei', 'taida', 'teidän', '316', 'tarjota', 'ihan', 'näin', 'tasasta', 'kyytiä', '.', ':', 'd']\n"
     ]
    }
   ],
   "source": [
    "df_train['tokenized']=df_train['tokenized'].apply(lambda x: [w.lower() for w in x])\n",
    "print('Kaikki pienin kirjaimin:\\n', df_train['tokenized'][0])"
   ]
  },
  {
   "cell_type": "markdown",
   "metadata": {},
   "source": [
    "### 3.2 Tokenisointi ja vektorisointi Scikit-learn-kirjaston avulla\n",
    "Myös Scikit-learnin kirjastosta löytyy käteviä luonnollisen kielen käsittelyyn ja koneoppimiseen kehitettyjä metodeja. Hyvä tutoriaali aiheesta löytyy täältä: https://scikit-learn.org/stable/modules/classes.html#module-sklearn.feature_extraction.text. Jatketaan piirrevektorien generointia kyseisen tutoriaalin avulla.\n",
    "\n",
    "Yksinkertaisin tapa muodostaa teksteistä piirrevektoreita on ns. bag-of-words-menetelmä. Siinä jokaiselle opetusdatasetissä esiintyvälle eri sanalle annetaan ensin oma indeksi. Tämän jälkeen jokaiselle dokumentille muodostetaan vektori laskemalla kunkin sanan esiintymismäärä kyseisessä dokumentissa ja tallentamalla tämä luku vektoriin aina kyseistä sanaa vastaavan indeksin kohdalle. Bag-of-words -menetelmä on siis kiinnostunut vain sanojen lukumääristä, se ei ota huomioon sanajärjestystä. Tehdään vektorisoiti käyttämällä CountVectorizer-metodia. CountVectorizer tekee samalla myös tekstin esiprosessoinnin ja tokenisoinnin.\n",
    "\n",
    "Mutta ihan ensin muutetaan datakehikon data laskentaan paremmin soveltuviksi numpy-vektoreiksi ja ladataan ne muistiin, jottei niitä tarvitse laskea aina uudelleen kun työkirja tauon jälkeen avataan uudelleen."
   ]
  },
  {
   "cell_type": "code",
   "execution_count": 13,
   "metadata": {},
   "outputs": [],
   "source": [
    "X_train = np.array(df_train['text'])\n",
    "y_train = np.array(df_train['label'])\n",
    "\n",
    "X_dev = np.array(df_dev['text'])\n",
    "y_dev = np.array(df_dev['label'])\n",
    "\n",
    "X_test = np.array(df_test['text'])\n",
    "y_test = np.array(df_test['label'])\n",
    "\n",
    "np.save('X_train.npy', X_train)\n",
    "np.save('y_train.npy', y_train)\n",
    "np.save('X_dev.npy', X_dev)\n",
    "np.save('y_dev.npy', y_dev)\n",
    "np.save('X_test.npy', X_test)\n",
    "np.save('y_test.npy', y_test)\n"
   ]
  },
  {
   "cell_type": "code",
   "execution_count": 14,
   "metadata": {},
   "outputs": [
    {
     "name": "stdout",
     "output_type": "stream",
     "text": [
      "(100000, 399520)\n"
     ]
    },
    {
     "data": {
      "text/plain": [
       "<1x399520 sparse matrix of type '<class 'numpy.int64'>'\n",
       "\twith 12 stored elements in Compressed Sparse Row format>"
      ]
     },
     "execution_count": 14,
     "metadata": {},
     "output_type": "execute_result"
    }
   ],
   "source": [
    "count_vect = CountVectorizer()\n",
    "X_train_counts = count_vect.fit_transform(X_train)\n",
    "print(X_train_counts.shape)\n",
    "X_train_counts[0]"
   ]
  },
  {
   "cell_type": "markdown",
   "metadata": {},
   "source": [
    "Tuloksena saatiin siis 100000x399520 -kokoinen matriisi, jossa 100000 on viestien määrä ja 399520 on erilaisten sanojen lukumäärä opetusdatassa. Metodi löysi esim. ensimmäisestä viestistä 12 eri tokenia. Näin ollen 399520 pitusessa vektorissa on 12 kohdassa luku ja kaikki muut kohdat saavat arvon 0. Tilan säästämiseksi Scikit-learn käyttääkin ns. harvoja matriiseja, jotka tallentavat vain nollasta poikkeavat tiedot.\n",
    "\n",
    "Selvitetään, mitkä ovat opetusaineiston eniten käytetyt sanat. Kunkin sanan kokonaismäärä saadaan laskemalla dokumenttikohtaiset sanamäärät yhteen. Listauksen tekemiseen otin vinkkiä täältä: https://medium.com/@cristhianboujon/how-to-list-the-most-common-words-from-text-corpus-using-scikit-learn-dad4d0cab41d"
   ]
  },
  {
   "cell_type": "code",
   "execution_count": 15,
   "metadata": {},
   "outputs": [],
   "source": [
    "sum_X_train_counts = X_train_counts.sum(axis=0)"
   ]
  },
  {
   "cell_type": "code",
   "execution_count": 16,
   "metadata": {},
   "outputs": [],
   "source": [
    "words_sum = [(word, sum_X_train_counts[0, idx]) for word, idx in count_vect.fit(X_train).vocabulary_.items()]\n",
    "words_sum =sorted(words_sum, key = lambda x: x[1], reverse=True)"
   ]
  },
  {
   "cell_type": "markdown",
   "metadata": {},
   "source": [
    "Listataan 30 yleisintä sanaa ja niiden esiintymismäärät koulutusaineistossa."
   ]
  },
  {
   "cell_type": "code",
   "execution_count": 17,
   "metadata": {},
   "outputs": [
    {
     "data": {
      "text/plain": [
       "[('ja', 112066),\n",
       " ('on', 90328),\n",
       " ('ei', 65747),\n",
       " ('että', 47182),\n",
       " ('se', 32955),\n",
       " ('niin', 29982),\n",
       " ('mutta', 29158),\n",
       " ('kun', 28159),\n",
       " ('jos', 26662),\n",
       " ('ole', 26618),\n",
       " ('en', 18875),\n",
       " ('tai', 18179),\n",
       " ('kuin', 17325),\n",
       " ('ihan', 15535),\n",
       " ('nyt', 15224),\n",
       " ('oli', 14662),\n",
       " ('sen', 14560),\n",
       " ('vain', 13234),\n",
       " ('mitä', 13158),\n",
       " ('sitten', 13090),\n",
       " ('voi', 12813),\n",
       " ('kyllä', 12730),\n",
       " ('mitään', 12341),\n",
       " ('sitä', 12136),\n",
       " ('koska', 11921),\n",
       " ('vaan', 11406),\n",
       " ('joka', 11194),\n",
       " ('ovat', 11151),\n",
       " ('olla', 11036),\n",
       " ('vaikka', 10384)]"
      ]
     },
     "execution_count": 17,
     "metadata": {},
     "output_type": "execute_result"
    }
   ],
   "source": [
    "words_sum[:30]"
   ]
  },
  {
   "cell_type": "markdown",
   "metadata": {},
   "source": [
    "NLTK:sta on mahdollista ladata muulla aineistolla valmiiksi opetetut pysäytyssanat (Stop words) eli lista sanoista, joita ei huomioida piirrevektoreissa. NLTK:n pysäytyssanoja on yhteensä 235. Nämä pysäytyssanat ovat niin yleisiä sanoja, ettei niistä ole hyötyä luokittelun kannalta. "
   ]
  },
  {
   "cell_type": "code",
   "execution_count": 4,
   "metadata": {},
   "outputs": [
    {
     "name": "stdout",
     "output_type": "stream",
     "text": [
      "['olla', 'olen', 'olet', 'on', 'olemme', 'olette', 'ovat', 'ole', 'oli', 'olisi', 'olisit', 'olisin', 'olisimme', 'olisitte', 'olisivat', 'olit', 'olin', 'olimme', 'olitte', 'olivat', 'ollut', 'olleet', 'en', 'et', 'ei', 'emme', 'ette', 'eivät', 'minä', 'minun', 'minut', 'minua', 'minussa', 'minusta', 'minuun', 'minulla', 'minulta', 'minulle', 'sinä', 'sinun', 'sinut', 'sinua', 'sinussa', 'sinusta', 'sinuun', 'sinulla', 'sinulta', 'sinulle', 'hän', 'hänen', 'hänet', 'häntä', 'hänessä', 'hänestä', 'häneen', 'hänellä', 'häneltä', 'hänelle', 'me', 'meidän', 'meidät', 'meitä', 'meissä', 'meistä', 'meihin', 'meillä', 'meiltä', 'meille', 'te', 'teidän', 'teidät', 'teitä', 'teissä', 'teistä', 'teihin', 'teillä', 'teiltä', 'teille', 'he', 'heidän', 'heidät', 'heitä', 'heissä', 'heistä', 'heihin', 'heillä', 'heiltä', 'heille', 'tämä', 'tämän', 'tätä', 'tässä', 'tästä', 'tähän', 'tallä', 'tältä', 'tälle', 'tänä', 'täksi', 'tuo', 'tuon', 'tuotä', 'tuossa', 'tuosta', 'tuohon', 'tuolla', 'tuolta', 'tuolle', 'tuona', 'tuoksi', 'se', 'sen', 'sitä', 'siinä', 'siitä', 'siihen', 'sillä', 'siltä', 'sille', 'sinä', 'siksi', 'nämä', 'näiden', 'näitä', 'näissä', 'näistä', 'näihin', 'näillä', 'näiltä', 'näille', 'näinä', 'näiksi', 'nuo', 'noiden', 'noita', 'noissa', 'noista', 'noihin', 'noilla', 'noilta', 'noille', 'noina', 'noiksi', 'ne', 'niiden', 'niitä', 'niissä', 'niistä', 'niihin', 'niillä', 'niiltä', 'niille', 'niinä', 'niiksi', 'kuka', 'kenen', 'kenet', 'ketä', 'kenessä', 'kenestä', 'keneen', 'kenellä', 'keneltä', 'kenelle', 'kenenä', 'keneksi', 'ketkä', 'keiden', 'ketkä', 'keitä', 'keissä', 'keistä', 'keihin', 'keillä', 'keiltä', 'keille', 'keinä', 'keiksi', 'mikä', 'minkä', 'minkä', 'mitä', 'missä', 'mistä', 'mihin', 'millä', 'miltä', 'mille', 'minä', 'miksi', 'mitkä', 'joka', 'jonka', 'jota', 'jossa', 'josta', 'johon', 'jolla', 'jolta', 'jolle', 'jona', 'joksi', 'jotka', 'joiden', 'joita', 'joissa', 'joista', 'joihin', 'joilla', 'joilta', 'joille', 'joina', 'joiksi', 'että', 'ja', 'jos', 'koska', 'kuin', 'mutta', 'niin', 'sekä', 'sillä', 'tai', 'vaan', 'vai', 'vaikka', 'kanssa', 'mukaan', 'noin', 'poikki', 'yli', 'kun', 'niin', 'nyt', 'itse']\n"
     ]
    },
    {
     "data": {
      "text/plain": [
       "235"
      ]
     },
     "execution_count": 4,
     "metadata": {},
     "output_type": "execute_result"
    }
   ],
   "source": [
    "# nltk.download('stopwords')\n",
    "stop_w = nltk.corpus.stopwords.words('finnish')\n",
    "np.save('stop_w', stop_w)\n",
    "print(stop_w)\n",
    "len(stop_w)"
   ]
  },
  {
   "cell_type": "markdown",
   "metadata": {},
   "source": [
    "Verrataan NLTK:n pysäytyssanalistaa oman koulutusaineistomme 235 yleisimpään sanaan. Listataan samat sanat sekä ne sanat NLTK:n pysäytyssanalistalta, joita ei löydy koulutusaineiston 235 yleisimmästä sanasta."
   ]
  },
  {
   "cell_type": "code",
   "execution_count": 19,
   "metadata": {},
   "outputs": [
    {
     "name": "stdout",
     "output_type": "stream",
     "text": [
      "Samat sanat:\n",
      " 72\n",
      "['olla', 'olen', 'olet', 'on', 'ovat', 'ole', 'oli', 'olisi', 'ollut', 'en', 'et', 'ei', 'eivät', 'minä', 'sinä', 'hän', 'he', 'tämä', 'tämän', 'tätä', 'tässä', 'tästä', 'tähän', 'tuo', 'tuon', 'tuossa', 'se', 'sen', 'sitä', 'siinä', 'siitä', 'siihen', 'sillä', 'sinä', 'nämä', 'näitä', 'nuo', 'ne', 'niiden', 'niitä', 'mikä', 'mitä', 'missä', 'mistä', 'minä', 'miksi', 'joka', 'jonka', 'jota', 'jossa', 'jotka', 'että', 'ja', 'jos', 'koska', 'kuin', 'mutta', 'niin', 'sekä', 'sillä', 'tai', 'vaan', 'vai', 'vaikka', 'kanssa', 'mukaan', 'noin', 'yli', 'kun', 'niin', 'nyt', 'itse']\n",
      "\n",
      "Loput pysäytyssanat:\n",
      " 163\n",
      "['olemme', 'olette', 'olisit', 'olisin', 'olisimme', 'olisitte', 'olisivat', 'olit', 'olin', 'olimme', 'olitte', 'olivat', 'olleet', 'emme', 'ette', 'minun', 'minut', 'minua', 'minussa', 'minusta', 'minuun', 'minulla', 'minulta', 'minulle', 'sinun', 'sinut', 'sinua', 'sinussa', 'sinusta', 'sinuun', 'sinulla', 'sinulta', 'sinulle', 'hänen', 'hänet', 'häntä', 'hänessä', 'hänestä', 'häneen', 'hänellä', 'häneltä', 'hänelle', 'me', 'meidän', 'meidät', 'meitä', 'meissä', 'meistä', 'meihin', 'meillä', 'meiltä', 'meille', 'te', 'teidän', 'teidät', 'teitä', 'teissä', 'teistä', 'teihin', 'teillä', 'teiltä', 'teille', 'heidän', 'heidät', 'heitä', 'heissä', 'heistä', 'heihin', 'heillä', 'heiltä', 'heille', 'tallä', 'tältä', 'tälle', 'tänä', 'täksi', 'tuotä', 'tuosta', 'tuohon', 'tuolla', 'tuolta', 'tuolle', 'tuona', 'tuoksi', 'siltä', 'sille', 'siksi', 'näiden', 'näissä', 'näistä', 'näihin', 'näillä', 'näiltä', 'näille', 'näinä', 'näiksi', 'noiden', 'noita', 'noissa', 'noista', 'noihin', 'noilla', 'noilta', 'noille', 'noina', 'noiksi', 'niissä', 'niistä', 'niihin', 'niillä', 'niiltä', 'niille', 'niinä', 'niiksi', 'kuka', 'kenen', 'kenet', 'ketä', 'kenessä', 'kenestä', 'keneen', 'kenellä', 'keneltä', 'kenelle', 'kenenä', 'keneksi', 'ketkä', 'keiden', 'ketkä', 'keitä', 'keissä', 'keistä', 'keihin', 'keillä', 'keiltä', 'keille', 'keinä', 'keiksi', 'minkä', 'minkä', 'mihin', 'millä', 'miltä', 'mille', 'mitkä', 'josta', 'johon', 'jolla', 'jolta', 'jolle', 'jona', 'joksi', 'joiden', 'joita', 'joissa', 'joista', 'joihin', 'joilla', 'joilta', 'joille', 'joina', 'joiksi', 'poikki']\n"
     ]
    }
   ],
   "source": [
    "top235= [i[0] for i in words_sum[:235]]\n",
    "same_stop_word= [w for w in stop_w if w in top235]\n",
    "print('Samat sanat:\\n',len(same_stop_word))\n",
    "print(same_stop_word)\n",
    "\n",
    "not_stop_word = [w for w in stop_w if w not in top235]\n",
    "print('\\nLoput pysäytyssanat:\\n',len(not_stop_word))\n",
    "print(not_stop_word)"
   ]
  },
  {
   "cell_type": "markdown",
   "metadata": {},
   "source": [
    "Tähän asti olemme laskeneet viestien sanamäärävektoriin mukaan kaikki sanat, jolloin niistä on tullut valtavan pitkiä (tässä tapauksessa lähes 400 000). Varsinkin neuroverkkopohjaisten menetelmien kouluttaminen vaatii niin paljon laskentaa, ettei tavallisen kotikoneen muisti ja laskentateho useinkaan riitä näin pitkien vektoreiden käsittelyyn. Onneksi CountVectorizer-metodissa on mahdollista rajata parametreillä sanaston kokoa. \n",
    "\n",
    "Sellaisista sanoista, joita löytyy joka dokumentistä, ei juurikaan ole hyötyä luokittelun kannalta. Max_df-parametrillä on mahdollista poistaa kaikki sanat joita löytyy esim. yli 70%:ssa dokumenteista. Vastaavasti min_df-parametrillä voidaan rajata pois sellaiset sanat, joita esiintyy vain hyvin harvoissa dokumenteissä. \n",
    "\n",
    "Kokeilin Naive Bayes -menetelmää käyttäen erilaisia parametrikombinaatioita ja huomasin, että NLTK-kirjaston pysäytyssanojen poisto rajasi sanaston kokoa max_df:ää (70%) enemmän ja antoi paremman ennustetarkkuuden. Parhaan ennustetarkkuuden (Naive Bayes) sain, kun rajasin lisäksi pois sanat joita esiintyy alle 0.003%:ssa dokumenttejä. Sanaston kooksi jää näillä parametreillä 98225 sanaa. Muodostetaan count-vektorit näillä parametreillä kaikille dataseteille."
   ]
  },
  {
   "cell_type": "code",
   "execution_count": 20,
   "metadata": {},
   "outputs": [
    {
     "name": "stdout",
     "output_type": "stream",
     "text": [
      "(100000, 98225)\n"
     ]
    }
   ],
   "source": [
    "count_vect_s003 = CountVectorizer(stop_words=stop_w, min_df=0.00003)\n",
    "count_vect_s003.fit(X_train)\n",
    "\n",
    "X_train_counts_stop_w003 = count_vect_s003.transform(X_train)\n",
    "X_dev_counts_stop_w003 = count_vect_s003.transform(X_dev)\n",
    "X_test_counts_stop_w003 = count_vect_s003.transform(X_test)\n",
    "\n",
    "print(X_train_counts_stop_w003.shape)"
   ]
  },
  {
   "cell_type": "markdown",
   "metadata": {},
   "source": [
    "Tehdään myös esimerkin vuoksi sellaiset versiot, joihin on otettu mukaan myös kahden ja kolmen peräkkäisen sanan yhdistelmät (2- ja 3-grammit)."
   ]
  },
  {
   "cell_type": "code",
   "execution_count": 21,
   "metadata": {},
   "outputs": [
    {
     "name": "stdout",
     "output_type": "stream",
     "text": [
      "(100000, 200895)\n"
     ]
    }
   ],
   "source": [
    "count_vect_s0033 = CountVectorizer(ngram_range=(1, 3), stop_words=stop_w, min_df=0.00003)\n",
    "count_vect_s0033.fit(X_train)\n",
    "\n",
    "X_train_counts_stop_w0033 = count_vect_s0033.transform(X_train)\n",
    "X_dev_counts_stop_w0033 = count_vect_s0033.transform(X_dev)\n",
    "X_test_counts_stop_w0033 = count_vect_s0033.transform(X_test)\n",
    "\n",
    "print(X_train_counts_stop_w0033.shape)"
   ]
  },
  {
   "cell_type": "markdown",
   "metadata": {},
   "source": [
    "Sanojen lukumääristä muodostetut piirrevektorit eivät välttämättä sellaisenaan ole riittävän kuvaavia. Yleensä dokumentit ovat eri pituisia, jolloin sanojen keskimääräiset lukumäärät voivat vaihdella paljonkin, vaikka dokumentit edustaisivat samaa aihepiiriä. Siksi kunkin sanan lukumäärä dokumentissa kannattaa jakaa dokumentin kaikkien sanojen lukumäärällä. Näin laskettua suuretta kutsutaan termifrekvenssiksi (tf). \n",
    "\n",
    "Dokumenttifrekvenssi (df) puolestaan ilmaisee niiden dokumenttien lukumäärän, joissa kyseinen termi esiintyy. Eli jos sanan dokumenttifrekvenssi on pieni, sana esiintyy yleensä dokumentissa joko monta kertaa tai sitten ei lainkaan. Jos taas dokumenttifrekvenssi on suuri, kyseinen sana esiintyy tasaisesti kaikissa dokumenteissa. Tällaisen sanan käyttö piirrevektorissa ei juurikaan tuo luokittelulle hyödyllistä lisäinformaatiota.\n",
    "\n",
    "Kun termifrekvenssi jaetaan dokumenttifrekvenssillä (kerrotaan käänteisellä dokumenttifrekvenssillä), saadaan tf_idf. Sekä tf että tf_idf voidaan laskea Scikit-learnin TfidfTransformer-metodin avulla. "
   ]
  },
  {
   "cell_type": "code",
   "execution_count": 22,
   "metadata": {},
   "outputs": [
    {
     "data": {
      "text/plain": [
       "(100000, 98225)"
      ]
     },
     "execution_count": 22,
     "metadata": {},
     "output_type": "execute_result"
    }
   ],
   "source": [
    "# kun muodostetaan tf, annetaan use_idf-parametrille arvo False:\n",
    "tf_transformer = TfidfTransformer(use_idf=False)\n",
    "X_train_tf = tf_transformer.fit_transform(X_train_counts_stop_w003)\n",
    "X_train_tf.shape"
   ]
  },
  {
   "cell_type": "markdown",
   "metadata": {},
   "source": [
    "Käytetään aikaisemmin parametreillä rajattuja sanamäärävektoreita ja muodostetaan näitä vastaavat tf_idf-piirrematriisit koulutus-, evaluointi ja testidatalle. "
   ]
  },
  {
   "cell_type": "code",
   "execution_count": 24,
   "metadata": {},
   "outputs": [],
   "source": [
    "tfidf_transformer003 = TfidfTransformer()\n",
    "tfidf_transformer003.fit(X_train_counts_stop_w003)\n",
    "\n",
    "X_train_tfidf003 = tfidf_transformer003.transform(X_train_counts_stop_w003)\n",
    "X_dev_tfidf003 = tfidf_transformer003.transform(X_dev_counts_stop_w003)\n",
    "X_test_tfidf003 = tfidf_transformer003.transform(X_test_counts_stop_w003)"
   ]
  },
  {
   "cell_type": "code",
   "execution_count": 26,
   "metadata": {},
   "outputs": [],
   "source": [
    "tfidf_transformer0033 = TfidfTransformer()\n",
    "tfidf_transformer0033.fit(X_train_counts_stop_w0033)\n",
    "\n",
    "X_train_tfidf0033 = tfidf_transformer0033.transform(X_train_counts_stop_w0033)\n",
    "X_dev_tfidf0033 = tfidf_transformer0033.transform(X_dev_counts_stop_w0033)\n",
    "X_test_tfidf0033 = tfidf_transformer0033.transform(X_test_counts_stop_w0033)"
   ]
  },
  {
   "cell_type": "markdown",
   "metadata": {},
   "source": [
    "## 4. Viestien luokittelu tekstisisällön perusteella\n",
    "Tutkitaan, kuinka hyvin viestien aiheluokan pystyy ennustamaan tekstisisällön perusteella. Luokittelua on mahdollista tehdä erilaisilla koneoppimisalgoritmeillä, jotka käyttävät niitä varten tekstisisällöstä johdettuja algoritmille sopivia numeerisia vektorimuotoisia piirteitä."
   ]
  },
  {
   "cell_type": "markdown",
   "metadata": {},
   "source": [
    "### 4.1 Naive Bayes\n",
    "Aloitetaan yksinkertaisella todennäköisyyksiin perustuvalla Naive Bayes -luokittelumenetetlmällä. Bayesilaisen päätösteorian mukainen luokittelija suosittelee päätöksiä, jotka minimoivat odotetun kokonaisriskin. Tässä tapaukessa riskinä on tehdä virhe luokittelussa. Naive Bayes -menetelmässä tehdään laskentaa merkittävästi yksinkertaistava oletus, että datasta johdetut piirteet olisivat keskenään riippumattomia. Vaikka tämä oletus yksinkertaistaa mallia liikaakin, Naive Bayesilla saadaan usein yllättävän hyviä tuloksia edistyneempiin menetelmiin nähden erittäin vähäisellä laskentakapasiteetilla.\n",
    "\n",
    "Käytetään Scikit-learnin Pipeline-luokkaa, joka helpottaa menetelmän validointia eri hyperparametreillä. Kokeillaan ensin mallia, jossa pysäytyssanoja ei ole poistettu."
   ]
  },
  {
   "cell_type": "code",
   "execution_count": 29,
   "metadata": {},
   "outputs": [],
   "source": [
    "text_NB = Pipeline([\n",
    "    ('vect', CountVectorizer()),\n",
    "    ('tfidf', TfidfTransformer()),\n",
    "    ('classifier', MultinomialNB()),\n",
    " ])"
   ]
  },
  {
   "cell_type": "code",
   "execution_count": 30,
   "metadata": {},
   "outputs": [
    {
     "data": {
      "text/plain": [
       "Pipeline(memory=None,\n",
       "     steps=[('vect', CountVectorizer(analyzer='word', binary=False, decode_error='strict',\n",
       "        dtype=<class 'numpy.int64'>, encoding='utf-8', input='content',\n",
       "        lowercase=True, max_df=1.0, max_features=None, min_df=1,\n",
       "        ngram_range=(1, 1), preprocessor=None, stop_words=None,\n",
       "        strip...f=False, use_idf=True)), ('classifier', MultinomialNB(alpha=1.0, class_prior=None, fit_prior=True))])"
      ]
     },
     "execution_count": 30,
     "metadata": {},
     "output_type": "execute_result"
    }
   ],
   "source": [
    "text_NB.fit(X_train, y_train)  "
   ]
  },
  {
   "cell_type": "code",
   "execution_count": 31,
   "metadata": {},
   "outputs": [
    {
     "data": {
      "text/plain": [
       "0.7055"
      ]
     },
     "execution_count": 31,
     "metadata": {},
     "output_type": "execute_result"
    }
   ],
   "source": [
    "predicted = text_NB.predict(X_dev)\n",
    "np.mean(predicted == y_dev) "
   ]
  },
  {
   "cell_type": "markdown",
   "metadata": {},
   "source": [
    "Näillä parametreilla päästiin siis 70,6%:n tarkkuuteen. Kokeillaan seuraavaksi muuten samaa mallia, mutta poistetaan nltk:n pysäytyssanat."
   ]
  },
  {
   "cell_type": "code",
   "execution_count": 32,
   "metadata": {},
   "outputs": [],
   "source": [
    "text_NB_s = Pipeline([\n",
    "    ('vect', CountVectorizer(stop_words=stop_w)),\n",
    "    ('tfidf', TfidfTransformer()),\n",
    "    ('classifier', MultinomialNB()),\n",
    " ])"
   ]
  },
  {
   "cell_type": "code",
   "execution_count": 33,
   "metadata": {},
   "outputs": [
    {
     "data": {
      "text/plain": [
       "Pipeline(memory=None,\n",
       "     steps=[('vect', CountVectorizer(analyzer='word', binary=False, decode_error='strict',\n",
       "        dtype=<class 'numpy.int64'>, encoding='utf-8', input='content',\n",
       "        lowercase=True, max_df=1.0, max_features=None, min_df=1,\n",
       "        ngram_range=(1, 1), preprocessor=None,\n",
       "        stop_words=['olla', 'o...f=False, use_idf=True)), ('classifier', MultinomialNB(alpha=1.0, class_prior=None, fit_prior=True))])"
      ]
     },
     "execution_count": 33,
     "metadata": {},
     "output_type": "execute_result"
    }
   ],
   "source": [
    "text_NB_s.fit(X_train, y_train)"
   ]
  },
  {
   "cell_type": "code",
   "execution_count": 34,
   "metadata": {},
   "outputs": [
    {
     "data": {
      "text/plain": [
       "0.7207"
      ]
     },
     "execution_count": 34,
     "metadata": {},
     "output_type": "execute_result"
    }
   ],
   "source": [
    "predicted = text_NB_s.predict(X_dev)\n",
    "np.mean(predicted == y_dev) \n"
   ]
  },
  {
   "cell_type": "markdown",
   "metadata": {},
   "source": [
    "Pysäytyssanat poistamalla tarkkus parani 72,1%:iin. Kokeilemalla erilaisia hyperparametrikombinaatioita saavutin parhaan tarkkuuden (73,1%) poistamalla pysäytyssanat ja min_df-arvolla 0.00003. "
   ]
  },
  {
   "cell_type": "code",
   "execution_count": 5,
   "metadata": {},
   "outputs": [
    {
     "data": {
      "text/plain": [
       "0.7306"
      ]
     },
     "execution_count": 5,
     "metadata": {},
     "output_type": "execute_result"
    }
   ],
   "source": [
    "text_NB_s = Pipeline([\n",
    "    ('vect', CountVectorizer(stop_words=stop_w, min_df=0.00003)),\n",
    "    ('tfidf', TfidfTransformer()),\n",
    "    ('classifier', MultinomialNB()),\n",
    " ])\n",
    "\n",
    "text_NB_s.fit(X_train, y_train)  \n",
    "\n",
    "predicted = text_NB_s.predict(X_dev)\n",
    "np.mean(predicted == y_dev) "
   ]
  },
  {
   "cell_type": "markdown",
   "metadata": {},
   "source": [
    "Tutkitaan seuraavaksi scikit-learnin confusion-matrixia apua käyttäen, miten eri luokat erottuvat toisistaan. Matriisin rivit edustavat oikeita luokkia ja sarakkeet ennusteita. Diagonaalilla näkyy siis kyseisen luokan oikein luokiteltujen viestien lukumäärät. Esim. ensimmäisellä rivillä näkyy niiden dokumenttien luokitteluennusteet, joiden todellinen luokka on yksi eli 'Ajoneuvot'. Näistä 1000:sta luokkaan 1 kuuluvasta viestistä 772 on luokiteltu oikein, 4 on ennustettu virheellisesti luokkaan 2 'Hikky', jne."
   ]
  },
  {
   "cell_type": "code",
   "execution_count": 36,
   "metadata": {},
   "outputs": [
    {
     "name": "stdout",
     "output_type": "stream",
     "text": [
      "[[772   4  13  11  17   9  11  11  24   5]\n",
      " [ 42 741  69  66  72  49 107 112  70  55]\n",
      " [ 31  20 766  41  35  44  14  49  23  31]\n",
      " [ 29  13  30 753  19  23   7  33  23  15]\n",
      " [ 19  11   8  20 690  62  11  12  25  33]\n",
      " [  7   6  13   7  36 685  10   8  19   8]\n",
      " [ 29  56  13  23  22  31 792  13 151  64]\n",
      " [ 35 119  57  46  27  27  22 745  26  29]\n",
      " [ 16   9  12  10  25  20   7  13 617  15]\n",
      " [ 20  21  19  23  57  50  19   4  22 745]]\n"
     ]
    }
   ],
   "source": [
    "print(confusion_matrix(predicted, y_dev))"
   ]
  },
  {
   "cell_type": "markdown",
   "metadata": {},
   "source": [
    "Ongelmia näkyy olevan joka luokan kanssa."
   ]
  },
  {
   "cell_type": "markdown",
   "metadata": {},
   "source": [
    "Tähän asti olemme käyttäneet vain yksittäisiin sanoihin perustuvaa vektorisointia. Kokeillaan, paraneeko ennustettavuus, jos piirrevektoriin otetaan mukaan myös kaikki kahden tai  kolmen peräkkäisen sanan yhdistelmät eli 2- ja 3-grammit."
   ]
  },
  {
   "cell_type": "code",
   "execution_count": 37,
   "metadata": {},
   "outputs": [
    {
     "data": {
      "text/plain": [
       "0.718"
      ]
     },
     "execution_count": 37,
     "metadata": {},
     "output_type": "execute_result"
    }
   ],
   "source": [
    "text_NB_s = Pipeline([\n",
    "    ('vect', CountVectorizer(ngram_range=(1, 2), stop_words=stop_w, min_df=0.00003)),\n",
    "    ('tfidf', TfidfTransformer()),\n",
    "    ('classifier', MultinomialNB()),\n",
    " ])\n",
    "\n",
    "text_NB_s.fit(X_train, y_train)  \n",
    "\n",
    "predicted = text_NB_s.predict(X_dev)\n",
    "np.mean(predicted == y_dev) "
   ]
  },
  {
   "cell_type": "code",
   "execution_count": 38,
   "metadata": {},
   "outputs": [
    {
     "data": {
      "text/plain": [
       "0.7173"
      ]
     },
     "execution_count": 38,
     "metadata": {},
     "output_type": "execute_result"
    }
   ],
   "source": [
    "text_NB_s = Pipeline([\n",
    "    ('vect', CountVectorizer(ngram_range=(1, 3), stop_words=stop_w, min_df=0.00003)),\n",
    "    ('tfidf', TfidfTransformer()),\n",
    "    ('classifier', MultinomialNB()),\n",
    " ])\n",
    "\n",
    "text_NB_s.fit(X_train, y_train)  \n",
    "\n",
    "predicted = text_NB_s.predict(X_dev)\n",
    "np.mean(predicted == y_dev) "
   ]
  },
  {
   "cell_type": "markdown",
   "metadata": {},
   "source": [
    "Tulos ei parantunut käyttämällä n-grammeja. Kokeilin myös ilman pysäytyssanojen ja harvinaisten sanojen poistoa, mutta tulos oli silloin vielä huonompi. \n",
    "\n",
    "Paras validointitulos käyttäen Naive Bayes -menetelmää jäi 73.1%:in tarkkuuteen. Ajan kyseisen koulutusajon uudelleen ja arvioin sen jälkeen sen ennustekyvyn luotettavuuden testiaineistolla."
   ]
  },
  {
   "cell_type": "code",
   "execution_count": 7,
   "metadata": {},
   "outputs": [
    {
     "data": {
      "text/plain": [
       "0.7154"
      ]
     },
     "execution_count": 7,
     "metadata": {},
     "output_type": "execute_result"
    }
   ],
   "source": [
    "predicted = text_NB_s.predict(X_test)\n",
    "np.mean(predicted == y_test) "
   ]
  },
  {
   "cell_type": "markdown",
   "metadata": {},
   "source": [
    "Testiaineistolla Naive Bayes -menetelmän tarkkuudeksi saatiin 71,6%"
   ]
  },
  {
   "cell_type": "markdown",
   "metadata": {},
   "source": [
    "### 4.2 Tukivektorikone (support vector machine)\n",
    "Tutkitaan, minkälaiseen tarkkuuteen pääsemme käyttämällä tukivektorikone-menetelmää. Tukivektorikone on lineaarinen luokittelija, joka pyrkii erottamaan kaksi luokkaa toisistaan sovittamalla niiden väliin päätöshypertason ja tämän tason kanssa yhdensuuntaiset toisistaan mahdollisimman etäälle mutta yhtä kauas päätöstasosta sijoittuvat marginaalihypertasot. Parhaassa tapauksessa marginaalitasot pystytään muodostamaan niin, ettei niiden väliin jää yhtään datapistettä. Silloin marginaalitasojen paikan määräävät ne datapisteet, jotka ovat lähimpänä päätöstasoa. Näitä datapisteitä kutsutaan tukivektoreiksi. Usein eri luokkia ei pystytä erottamaan toisistaan tasolla täydellisesti toisistaan. Silloin käytetään ns. joustavan marginaalin luokitinta, mutta silloinkin tukivektoreiksi kutsutaan niitä datapisteitä, jotka määrittävät marginaalitasojen paikan.\n",
    "\n",
    "Käytetään tähän https://scikit-learn.org/stable/tutorial/text_analytics/working_with_text_data.html -tutorialin mukaisesti Scikit-learnin SGDClassifier-metodia. \n",
    "\n",
    "Kokeillaan ensin ottamalla kaikki sanat huomioon:"
   ]
  },
  {
   "cell_type": "code",
   "execution_count": 39,
   "metadata": {},
   "outputs": [
    {
     "data": {
      "text/plain": [
       "0.7141"
      ]
     },
     "execution_count": 39,
     "metadata": {},
     "output_type": "execute_result"
    }
   ],
   "source": [
    "text_svm = Pipeline([\n",
    "    ('vect', CountVectorizer()),\n",
    "    ('tfidf', TfidfTransformer()),\n",
    "    ('classifier', SGDClassifier(loss='hinge', penalty='l2',\n",
    "                                 alpha=1e-3, random_state=42,\n",
    "                                 max_iter=5, tol=None)),\n",
    "])\n",
    "\n",
    "text_svm.fit(X_train, y_train)  \n",
    "predicted = text_svm.predict(X_dev)\n",
    "np.mean(predicted == y_dev)"
   ]
  },
  {
   "cell_type": "markdown",
   "metadata": {},
   "source": [
    "Seuraavaksi kokeillaan poistamalla pysäytyssanat ja min_df:n arvolla 0.0003:"
   ]
  },
  {
   "cell_type": "code",
   "execution_count": 40,
   "metadata": {},
   "outputs": [
    {
     "data": {
      "text/plain": [
       "0.7136"
      ]
     },
     "execution_count": 40,
     "metadata": {},
     "output_type": "execute_result"
    }
   ],
   "source": [
    "text_svm = Pipeline([\n",
    "    ('vect', CountVectorizer(stop_words=stop_w, min_df=0.00003)),\n",
    "    ('tfidf', TfidfTransformer()),\n",
    "    ('classifier', SGDClassifier(loss='hinge', penalty='l2',\n",
    "                                 alpha=1e-3, random_state=42,\n",
    "                                 max_iter=5, tol=None)),\n",
    "])\n",
    "\n",
    "text_svm.fit(X_train, y_train)  \n",
    "predicted = text_svm.predict(X_dev)\n",
    "np.mean(predicted == y_dev)       "
   ]
  },
  {
   "cell_type": "markdown",
   "metadata": {},
   "source": [
    "Tulos huononi hieman tällä rajauksella, joten kokeillaan vielä poistamalla ainoastaan pysäytyssanat:"
   ]
  },
  {
   "cell_type": "code",
   "execution_count": 41,
   "metadata": {},
   "outputs": [
    {
     "data": {
      "text/plain": [
       "0.7186"
      ]
     },
     "execution_count": 41,
     "metadata": {},
     "output_type": "execute_result"
    }
   ],
   "source": [
    "text_svm = Pipeline([\n",
    "    ('vect', CountVectorizer(stop_words=stop_w)),\n",
    "    ('tfidf', TfidfTransformer()),\n",
    "    ('classifier', SGDClassifier(loss='hinge', penalty='l2',\n",
    "                                 alpha=1e-3, random_state=42,\n",
    "                                 max_iter=5, tol=None)),\n",
    "])\n",
    "\n",
    "text_svm.fit(X_train, y_train)  \n",
    "predicted = text_svm.predict(X_dev)\n",
    "np.mean(predicted == y_dev)       "
   ]
  },
  {
   "cell_type": "markdown",
   "metadata": {},
   "source": [
    "Paras tulos saatiin poistamalla pysäytyssanat. Jäimme silti jälkeen Naive Bayes -menetelmällä saavutetusta tarkkuudesta. SGDClassifier-metodin dokumentaation https://scikit-learn.org/stable/modules/generated/sklearn.linear_model.SGDClassifier.html mukaan parhaisiin tuloksiin pääsemiseksi datan olisi hyvä olla normalisoitua (datan keskiarvo on 0 ja varianssi 1). Tähän päästäisiin z-standardisoimalla piirrematriisi, mutta koska harva (sparse) piirrematriisimme muuttuisi silloin tiheäksi, se ei enää mahtuisi tavallisen koneen muistiin.\n",
    "\n",
    "Yritetään vielä parantaa tulosta kokeilemalla eri hyperparametrien arvoja. Tutoriaalissa on opastettu myös GridSearchCV-metodin käyttö, jolla voidaan kätevästi käydä läpi eri parametrikombinaatiot. Kokeillaan svm-menetelmää käyttäen sanoja sekä sanoja ja 2-grammeja sekä rangaistus (penalty) parametria arvoilla 0,01/ 0,001. GridSearchCV käyttää cross validointia löytääkseen parhaan parametrikombinaation. Tämän vuoksi se vie erittäin paljon laskenta-aikaa. Siksi \"leikkaa - liimaa - muuta hyperparametrien arvoja\" -menetelmä on tavallisella koneella huomattavasti nopeampi tapa kokeilla eri kombinaatioita."
   ]
  },
  {
   "cell_type": "code",
   "execution_count": 42,
   "metadata": {},
   "outputs": [],
   "source": [
    "parameters = {\n",
    "    'vect__ngram_range': [(1, 1), (1, 2)],\n",
    "    'classifier__alpha': (1e-2, 1e-3),\n",
    "}"
   ]
  },
  {
   "cell_type": "code",
   "execution_count": 43,
   "metadata": {},
   "outputs": [],
   "source": [
    "gs = GridSearchCV(text_svm, parameters, cv=5, iid=False, n_jobs=-1).fit(X_train, y_train)"
   ]
  },
  {
   "cell_type": "code",
   "execution_count": 44,
   "metadata": {},
   "outputs": [
    {
     "name": "stdout",
     "output_type": "stream",
     "text": [
      "0.7295299999999999\n",
      "classifier__alpha: 0.001\n",
      "vect__ngram_range: (1, 1)\n"
     ]
    }
   ],
   "source": [
    "print(gs.best_score_)\n",
    "for param_name in sorted(parameters.keys()):\n",
    "    print(\"%s: %r\" % (param_name, gs.best_params_[param_name]))"
   ]
  },
  {
   "cell_type": "markdown",
   "metadata": {},
   "source": [
    "Paras tulos saatiin ilman 2-grammeja ja rangaistusparametrin arvolla 0,001 eli samoilla arvoilla kuin olimme yllä jo kokeilleet. Cross validoinnin vuoksi tarkkuus näyttää paremmalta kuin yllä (ylempi laskettu erillisellä validointidatalla).\n",
    "\n",
    "Kokeillaan vielä alkuperäistä mallia useammalla (30) iteraatiolla."
   ]
  },
  {
   "cell_type": "code",
   "execution_count": 45,
   "metadata": {},
   "outputs": [
    {
     "data": {
      "text/plain": [
       "0.7189"
      ]
     },
     "execution_count": 45,
     "metadata": {},
     "output_type": "execute_result"
    }
   ],
   "source": [
    "text_svm = Pipeline([\n",
    "    ('vect', CountVectorizer(stop_words=stop_w)),\n",
    "    ('tfidf', TfidfTransformer()),\n",
    "    ('classifier', SGDClassifier(loss='hinge', penalty='l2',\n",
    "                                 alpha=1e-3, random_state=42,\n",
    "                                 max_iter=30, tol=None)),\n",
    "])\n",
    "\n",
    "text_svm.fit(X_train, y_train)  \n",
    "predicted = text_svm.predict(X_dev)\n",
    "np.mean(predicted == y_dev)      "
   ]
  },
  {
   "cell_type": "markdown",
   "metadata": {},
   "source": [
    "Iteraatioiden määrän lisääminen ei käytännössä parantanut tulosta. Lineaarisissa malleissa on ongelmallista, jos piirteiden määrä on isompi kuin datapisteiden. Kokeillaan siksi vielä piirteiden rajoittamista 100 000:een. "
   ]
  },
  {
   "cell_type": "code",
   "execution_count": 46,
   "metadata": {},
   "outputs": [
    {
     "data": {
      "text/plain": [
       "0.7136"
      ]
     },
     "execution_count": 46,
     "metadata": {},
     "output_type": "execute_result"
    }
   ],
   "source": [
    "text_svm = Pipeline([\n",
    "    ('vect', CountVectorizer(max_features=100000, ngram_range=(1,1), stop_words=stop_w)),\n",
    "    ('tfidf', TfidfTransformer()),\n",
    "    ('classifier', SGDClassifier(loss='hinge', penalty='l2',\n",
    "                                 alpha=1e-3, random_state=42,\n",
    "                                 max_iter=5, tol=None)),\n",
    "])\n",
    "\n",
    "text_svm.fit(X_train, y_train)  \n",
    "predicted = text_svm.predict(X_dev)\n",
    "np.mean(predicted == y_dev)      "
   ]
  },
  {
   "cell_type": "markdown",
   "metadata": {},
   "source": [
    "Tämäkään ei valitettavasti parantanut tulosta. Paras tarkkuus käyttäen tukivektorikonetta CGDClassifier-luokan avulla jäi 71,9%:iin. \n",
    "\n",
    "On yllättävää, ettei tukivektorikoneella päästy Naive Bayesin tarkkuuteen. Kokeillaan vielä parantaa tulosta käyttäen toista Scikit-lernin tukivektorikone-luokkaa LinearSVC. Edellä pelkkien pysäytyssanojen poisto antoi parhaan tuloksen. Kun kokeilin kaikki samat kombinaatiot kuin yllä, sain parhaan validointituloksen käyttäen koko sanastoa ja ilman n-grammeja."
   ]
  },
  {
   "cell_type": "code",
   "execution_count": 17,
   "metadata": {},
   "outputs": [
    {
     "data": {
      "text/plain": [
       "0.7367"
      ]
     },
     "execution_count": 17,
     "metadata": {},
     "output_type": "execute_result"
    }
   ],
   "source": [
    "text_svm = Pipeline([\n",
    "    ('vect', CountVectorizer()),\n",
    "    ('tfidf', TfidfTransformer()),\n",
    "    ('classifier', LinearSVC(penalty='l2', loss='squared_hinge', \n",
    "                             dual=True, tol=0.0001, C=1.0, \n",
    "                             multi_class='ovr', fit_intercept=True, \n",
    "                             intercept_scaling=1, class_weight=None, \n",
    "                             verbose=0, random_state=None, max_iter=30)),\n",
    "])\n",
    "\n",
    "text_svm.fit(X_train, y_train)  \n",
    "predicted = text_svm.predict(X_dev)\n",
    "np.mean(predicted == y_dev)       "
   ]
  },
  {
   "cell_type": "markdown",
   "metadata": {},
   "source": [
    "Tällä tukivektorikoneella saavutettu tarkkuus 73,7% on parempi kuin Naive Bayesin 73.1%. Kokeillaan vielä parantaa tulosta iteroimalla säätelyparametrin C arvoja (0.9, 1.1, 0.8, 0.7, 0.6, 0.5, 0.55, 0.65, 0.59, 0,61). "
   ]
  },
  {
   "cell_type": "code",
   "execution_count": 8,
   "metadata": {},
   "outputs": [
    {
     "data": {
      "text/plain": [
       "0.7404"
      ]
     },
     "execution_count": 8,
     "metadata": {},
     "output_type": "execute_result"
    }
   ],
   "source": [
    "text_svm = Pipeline([\n",
    "    ('vect', CountVectorizer()),\n",
    "    ('tfidf', TfidfTransformer()),\n",
    "    ('classifier', LinearSVC(penalty='l2', loss='squared_hinge', \n",
    "                             dual=True, tol=0.0001, C=0.6, \n",
    "                             multi_class='ovr', fit_intercept=True, \n",
    "                             intercept_scaling=1, class_weight=None, \n",
    "                             verbose=0, random_state=None, max_iter=30)),\n",
    "])\n",
    "\n",
    "text_svm.fit(X_train, y_train)  \n",
    "predicted = text_svm.predict(X_dev)\n",
    "np.mean(predicted == y_dev)  "
   ]
  },
  {
   "cell_type": "markdown",
   "metadata": {},
   "source": [
    "Paras tulos saavutettiin C:n arvolla 0.6, jolloin tarkkuudeksi saatiin 74,0%. Tämä on tähän mennessä paras validointidatalla saavutettu tulos. Katsotaan vielä, minkälainen tarkkuus saadaan testiaineistolla."
   ]
  },
  {
   "cell_type": "code",
   "execution_count": 9,
   "metadata": {},
   "outputs": [
    {
     "data": {
      "text/plain": [
       "0.7197"
      ]
     },
     "execution_count": 9,
     "metadata": {},
     "output_type": "execute_result"
    }
   ],
   "source": [
    "predicted = text_svm.predict(X_test)\n",
    "np.mean(predicted == y_test) "
   ]
  },
  {
   "cell_type": "markdown",
   "metadata": {},
   "source": [
    "Testiaineiston perusteella tarkkuus on 72.0%"
   ]
  },
  {
   "cell_type": "markdown",
   "metadata": {},
   "source": [
    "### 4.3 Muita lineaarisia malleja\n",
    "Dokumenttien vektorisoinnissa syntyy todella pitkiä vektoreita. Tämä rajaa merkittävästi, mitä koneoppimismenetelmiä voidaan tavallisella kotikoneella käyttää. Kokeilin kahta hyvin yleisesti käytettyä koneoppimismenetlmää (K nearest neighbors sekä Regularized linear model with ridge regression), mutta molemmat kaatuivat. Nearest neighbors ilmoitti kyseessä olevan muistin loppumisen, kun taas Ridge-menetelmän käyttö kaatoi Kernelin.\n",
    "\n",
    "SGDClassifier-metodia voidaan käyttää myös muiden kuin tukivektorikoneen käyttöön. Demotaan siis vielä muutamaa niistä:\n",
    "1. ‘log’: logistic regression\n",
    "2. ‘perceptron’: perceptron algorithm\n",
    "3. ‘squared_hinge’: like hinge (SVM) but is quadratically penalized "
   ]
  },
  {
   "cell_type": "code",
   "execution_count": 47,
   "metadata": {},
   "outputs": [
    {
     "data": {
      "text/plain": [
       "0.5671"
      ]
     },
     "execution_count": 47,
     "metadata": {},
     "output_type": "execute_result"
    }
   ],
   "source": [
    "text_log = Pipeline([\n",
    "    ('vect', CountVectorizer(stop_words=stop_w)),\n",
    "    ('tfidf', TfidfTransformer()),\n",
    "    ('classifier', SGDClassifier(loss='log', penalty='l2',\n",
    "                                 alpha=1e-3, random_state=42,\n",
    "                                 max_iter=5, tol=None)),\n",
    "])\n",
    "\n",
    "text_log.fit(X_train, y_train)  \n",
    "predicted = text_log.predict(X_dev)\n",
    "np.mean(predicted == y_dev)      "
   ]
  },
  {
   "cell_type": "code",
   "execution_count": 48,
   "metadata": {},
   "outputs": [
    {
     "data": {
      "text/plain": [
       "0.677"
      ]
     },
     "execution_count": 48,
     "metadata": {},
     "output_type": "execute_result"
    }
   ],
   "source": [
    "text_perceptron = Pipeline([\n",
    "    ('vect', CountVectorizer(stop_words=stop_w)),\n",
    "    ('tfidf', TfidfTransformer()),\n",
    "    ('classifier', SGDClassifier(loss='perceptron', penalty='l2',\n",
    "                                 alpha=1e-3, random_state=42,\n",
    "                                 max_iter=5, tol=None)),\n",
    "])\n",
    "\n",
    "text_perceptron.fit(X_train, y_train)  \n",
    "predicted = text_perceptron.predict(X_dev)\n",
    "np.mean(predicted == y_dev)      "
   ]
  },
  {
   "cell_type": "code",
   "execution_count": 49,
   "metadata": {},
   "outputs": [
    {
     "data": {
      "text/plain": [
       "0.645"
      ]
     },
     "execution_count": 49,
     "metadata": {},
     "output_type": "execute_result"
    }
   ],
   "source": [
    "text_squared_hinge = Pipeline([\n",
    "    ('vect', CountVectorizer(stop_words=stop_w)),\n",
    "    ('tfidf', TfidfTransformer()),\n",
    "    ('classifier', SGDClassifier(loss='squared_hinge', penalty='l2',\n",
    "                                 alpha=1e-3, random_state=42,\n",
    "                                 max_iter=5, tol=None)),\n",
    "])\n",
    "\n",
    "text_squared_hinge.fit(X_train, y_train)  \n",
    "predicted = text_squared_hinge.predict(X_dev)\n",
    "np.mean(predicted == y_dev)   "
   ]
  },
  {
   "cell_type": "markdown",
   "metadata": {},
   "source": [
    "Koska alustavat tulokset eivät ole tämän lupaavampia, ei näitä menetelmiä lähdetä tutkimaan tarkemmin. Kokeillaan sen sijaan seuraavaksi neuroverkkopohjaista lähestymistä."
   ]
  },
  {
   "cell_type": "markdown",
   "metadata": {},
   "source": [
    "### 4.4 Neuroverkko"
   ]
  },
  {
   "cell_type": "markdown",
   "metadata": {},
   "source": [
    "Neuroverkkopohjaiset menetelmät ovat epälineaarisia luokittelijoita. Nyt siis eri luokat pyritään erottamaan toisistaan epälineaarisella \"rajalla\". Epälineaarisuuden vuoksi malliin tarvitaan mukaan epälineaarisia soluja sisältäviä kerroksia. Mikä tahansa funktio on mahdollista approksimoida monen paikallisen funktion summana. Teoriassa jo kaksi piilotettua tasoa sisältävällä neuroverkolla, joissa on riittävä määrä epälineaarisia soluja, voidaan kuvata mitkä tahansa monimutkaiset päätösalueet. Neuroverkoilla on siis teoriassa rajaton selityskapasiteetti. Haasteena onkin, että ne voivat liiankin helposti \"oppia ulkoa\" opetusdatan ja ylisovittua siihen oppimalla sellaisiakin piirteitä opetusdatasta, jotka eivät ole yleistettävissä uuteen dataan. Tällainen ylisovittunut malli ei siis toimi luotettavasti esim. validointidatalla. Tämän vuoksi kun neuroverkkoja opetetaan, seurataankin jatkuvasti validointidatalla saatavien tulosten kehittymistä ja lopetetaan opettaminen, kun validointidatalla lasketut tulokset alkavat huonontua. Lisäksi ylisovittumista pyritään ennaltaehkäisemään esim. dropout-kerroksella, joka esitellään työkirjan myöhemmässä vaiheessa.\n",
    "\n",
    "Aloitetaan vektorisoimalla aiheluokat \"one-hot\"-vektoreiksi, joissa dokumentin oikean aiheluokan kohdalle tulee arvo 1 ja muiden aiheluokkien kohdalle arvo 0. Tallennetaan nämä muistiin myöhempää käyttöä varten"
   ]
  },
  {
   "cell_type": "code",
   "execution_count": 24,
   "metadata": {},
   "outputs": [
    {
     "name": "stdout",
     "output_type": "stream",
     "text": [
      "['ajoneuvot' 'hikky' 'kuntosali' 'muoti' 'pelit' 'penkkiurheilu'\n",
      " 'politiikka' 'seksuaalisuus' 'sota' 'televisio']\n"
     ]
    }
   ],
   "source": [
    "label_encoder=LabelEncoder() \n",
    "label_encoder.fit(y_train)\n",
    "\n",
    "print(label_encoder.classes_)"
   ]
  },
  {
   "cell_type": "code",
   "execution_count": 25,
   "metadata": {},
   "outputs": [],
   "source": [
    "y_train_int=label_encoder.transform(y_train)\n",
    "labels_train = to_categorical(y_train_int)\n",
    "\n",
    "y_dev_int=label_encoder.transform(y_dev)\n",
    "labels_dev = to_categorical(y_dev_int)\n",
    "\n",
    "y_test_int=label_encoder.transform(y_test)\n",
    "labels_test = to_categorical(y_test_int)"
   ]
  },
  {
   "cell_type": "code",
   "execution_count": 26,
   "metadata": {},
   "outputs": [],
   "source": [
    "np.save('labels_train.npy', labels_train)\n",
    "np.save('labels_dev.npy', labels_dev)\n",
    "np.save('labels_test.npy', labels_test)"
   ]
  },
  {
   "cell_type": "markdown",
   "metadata": {},
   "source": [
    "Nyt esim. koulutusdatan ensimmäisen viestin luokkavektori näyttää tältä:"
   ]
  },
  {
   "cell_type": "code",
   "execution_count": 10,
   "metadata": {},
   "outputs": [
    {
     "data": {
      "text/plain": [
       "array([1., 0., 0., 0., 0., 0., 0., 0., 0., 0.], dtype=float32)"
      ]
     },
     "execution_count": 10,
     "metadata": {},
     "output_type": "execute_result"
    }
   ],
   "source": [
    "labels_train[0]"
   ]
  },
  {
   "cell_type": "markdown",
   "metadata": {},
   "source": [
    "Jotta erilaisten neuroverkkojen kokeilu olisi helpompaa, tehdään funktio neuroverkon määrittelemiseksi. Koneeni tehorajoitteiden vuoksi kokeillaan neuroverkkoja, joissa on vain yksi tai kaksi piilotettua tasoa."
   ]
  },
  {
   "cell_type": "code",
   "execution_count": 12,
   "metadata": {},
   "outputs": [],
   "source": [
    "def create_model1(features, nodes1):\n",
    "    model = models.Sequential()\n",
    "    model.add(layers.Dense(nodes1, activation='relu', input_shape=(features,)))\n",
    "    model.add(layers.Dense(10, activation='softmax'))\n",
    "    model.compile(optimizer='rmsprop',\n",
    "                  loss='categorical_crossentropy',\n",
    "                  metrics=['accuracy'])\n",
    "    return model"
   ]
  },
  {
   "cell_type": "code",
   "execution_count": 13,
   "metadata": {},
   "outputs": [],
   "source": [
    "def create_model2(features, nodes1, nodes2):\n",
    "    model = models.Sequential()\n",
    "    model.add(layers.Dense(nodes1, activation='relu', input_shape=(features,)))\n",
    "    model.add(layers.Dense(nodes2, activation='relu'))\n",
    "    model.add(layers.Dense(10, activation='softmax'))\n",
    "    model.compile(optimizer='rmsprop',\n",
    "                  loss='categorical_crossentropy',\n",
    "                  metrics=['accuracy'])\n",
    "    return model"
   ]
  },
  {
   "cell_type": "markdown",
   "metadata": {},
   "source": [
    "Käytetään ensin syötteenä sanojen lukumääriä. Jos kaikki sanat otettaisiin mukaan, vektoreista tulisi 399520:n pituisia. Käyttämäni koneen teho ei riitä niin suuren tietomäärän työstämiseen. Kokeillaan siis tavallista sanamäärävektoria, mutta rajoitetaan piirteiden määrä 100000 sanaan."
   ]
  },
  {
   "cell_type": "code",
   "execution_count": 11,
   "metadata": {},
   "outputs": [],
   "source": [
    "count_vect = CountVectorizer(max_features=100000)\n",
    "count_vect.fit(X_train)\n",
    "\n",
    "X_train_counts = count_vect.transform(X_train)\n",
    "X_dev_counts = count_vect.transform(X_dev)\n",
    "X_test_counts = count_vect.transform(X_test)\n"
   ]
  },
  {
   "cell_type": "markdown",
   "metadata": {},
   "source": [
    "Kokeillaan neuroverkkomallia, jossa on yksi piilotettu taso, jossa on 128 solmua. Käytetään Early stopping -menetelmää, jossa joka optimointikierroksen jälkeen mallin virhemäärä lasketaan validointidatan avulla. Jos virhe ei pienene esim. kolmen viimeisen kierroksen aikana (parametri: patience), koulutusprosessi pysäytetään. Restore_best_weights-ohjausparametrin arvolla True opetuksen tuloksena saatu malli käyttää koulutuksen aikana validoituja parhaita parametriarvoja."
   ]
  },
  {
   "cell_type": "code",
   "execution_count": 11,
   "metadata": {},
   "outputs": [
    {
     "data": {
      "text/plain": [
       "0.7254"
      ]
     },
     "execution_count": 11,
     "metadata": {},
     "output_type": "execute_result"
    }
   ],
   "source": [
    "features = X_train_counts.shape[1]\n",
    "nodes1 = 128\n",
    "model = create_model1(features, nodes1)\n",
    "\n",
    "es = EarlyStopping(monitor='val_loss', min_delta=0, patience=3, verbose=0, \n",
    "                   mode='auto', baseline=None, restore_best_weights=True)\n",
    "\n",
    "history = model.fit(X_train_counts, labels_train, epochs= 100, batch_size=150, \n",
    "                    validation_data=(X_dev_counts, labels_dev), verbose = 0, callbacks=[es])\n",
    "\n",
    "_, val_acc = model.evaluate(X_dev_counts, labels_dev, verbose=0)\n",
    "val_acc\n"
   ]
  },
  {
   "cell_type": "code",
   "execution_count": 12,
   "metadata": {},
   "outputs": [
    {
     "data": {
      "image/png": "[encoded data removed]",
      "text/plain": [
       "<Figure size 432x288 with 1 Axes>"
      ]
     },
     "metadata": {
      "needs_background": "light"
     },
     "output_type": "display_data"
    }
   ],
   "source": [
    "plt.ylim(0.5,1.0)\n",
    "plt.plot(history.history[\"val_acc\"],label=\"Validointidatan tarkkus\") \n",
    "plt.plot(history.history[\"acc\"],label=\"Koulutusdatan tarkkuus\")\n",
    "plt.legend()\n",
    "plt.show()"
   ]
  },
  {
   "cell_type": "markdown",
   "metadata": {},
   "source": [
    "Tarkkuudeksi saatiin validointidatalla 72,6%, joka on huonompi kuin tukivektorikoneella tai Naive Bayesilla saatu tarkkuus. Kuviosta huomataan,ettei validointidatan tarkkuus parane toisen kierroksen jälkeen (x-akselin indeksi 0 vastaa ensimmäistä validointitulosta, joka lasketaan ensimmäisen kierroksen jälkeen). \n",
    "\n",
    "Näinkin yksinkertaisen neuroverkon koulutus vei koneellani noin 40 minuuttia. Neuroverkoilla olisi huikea selitysvoima, mutta niiden opettamiseen vaaditaan myös huikean paljon laskentatehoa. Tavallisella kotikoneella erilaisten yksikertaistenkin mallien koulutus ja niiden hyperparametrien virittäminen on helposti tuntien tai jopa päivien urakka. \n",
    "\n",
    "Koska nämä mallit ovat niin yksinkertaisia ja dataa on niinkin paljon (100 000 viestiä), neuroverkko tuntuu oppivan riittävästi jo ensimmäisillä kierroksilla. Ajan säästämiseksi tiputankin EarlyStoppingin patience-parametrin arvoon 1.\n",
    "\n",
    "Kokeillaan lisätä solujen määrää 300:aan."
   ]
  },
  {
   "cell_type": "code",
   "execution_count": 13,
   "metadata": {},
   "outputs": [
    {
     "data": {
      "text/plain": [
       "0.7265"
      ]
     },
     "execution_count": 13,
     "metadata": {},
     "output_type": "execute_result"
    }
   ],
   "source": [
    "nodes1 = 300\n",
    "model = create_model1(features, nodes1)\n",
    "\n",
    "es = EarlyStopping(monitor='val_loss', min_delta=0, patience=1, verbose=0, \n",
    "                   mode='auto', baseline=None, restore_best_weights=True)\n",
    "\n",
    "history = model.fit(X_train_counts, labels_train, epochs= 100, batch_size=150, \n",
    "                    validation_data=(X_dev_counts, labels_dev), verbose = 0, callbacks=[es])\n",
    "\n",
    "_, val_acc = model.evaluate(X_dev_counts, labels_dev, verbose=0)\n",
    "val_acc\n"
   ]
  },
  {
   "cell_type": "code",
   "execution_count": 14,
   "metadata": {},
   "outputs": [
    {
     "data": {
      "image/png": "[encoded data removed]",
      "text/plain": [
       "<Figure size 432x288 with 1 Axes>"
      ]
     },
     "metadata": {
      "needs_background": "light"
     },
     "output_type": "display_data"
    }
   ],
   "source": [
    "plt.ylim(0.5,1.0)\n",
    "plt.plot(history.history[\"val_acc\"],label=\"Validointidatan tarkkus\") \n",
    "plt.plot(history.history[\"acc\"],label=\"Koulutusdatan tarkkuus\")\n",
    "plt.legend()\n",
    "plt.show()"
   ]
  },
  {
   "cell_type": "markdown",
   "metadata": {},
   "source": [
    "Tarkkuus parani vain hyvin vähän (nyt 72,7%, 124:llä solulla 72,6%). Kokeillaan seuraavaksi samaa, mutta muutetaan piirrevektoria niin, että jokainen vektorin luku voi saada vain arvon 0 tai 1. Eli mikäli kyseinen sana esiintyy vähintään kerran tekstissä, sanaa vastaava vektorin luku saa arvon 1."
   ]
  },
  {
   "cell_type": "code",
   "execution_count": 15,
   "metadata": {},
   "outputs": [],
   "source": [
    "count_vect = CountVectorizer(max_features=100000, binary=True)\n",
    "count_vect.fit(X_train)\n",
    "\n",
    "X_train_counts = count_vect.transform(X_train)\n",
    "X_dev_counts = count_vect.transform(X_dev)\n",
    "X_test_counts = count_vect.transform(X_test)"
   ]
  },
  {
   "cell_type": "code",
   "execution_count": 16,
   "metadata": {},
   "outputs": [
    {
     "data": {
      "text/plain": [
       "0.7209"
      ]
     },
     "execution_count": 16,
     "metadata": {},
     "output_type": "execute_result"
    }
   ],
   "source": [
    "features = X_train_counts.shape[1]\n",
    "nodes1 = 300\n",
    "model = create_model1(features, nodes1)\n",
    "\n",
    "es = EarlyStopping(monitor='val_loss', min_delta=0, patience=1, verbose=0, \n",
    "                   mode='auto', baseline=None, restore_best_weights=True)\n",
    "\n",
    "history = model.fit(X_train_counts, labels_train, epochs= 10, batch_size=100, \n",
    "                    validation_data=(X_dev_counts, labels_dev), verbose = 0, callbacks=[es])\n",
    "\n",
    "_, val_acc = model.evaluate(X_dev_counts, labels_dev, verbose=0)\n",
    "val_acc\n"
   ]
  },
  {
   "cell_type": "code",
   "execution_count": 17,
   "metadata": {},
   "outputs": [
    {
     "data": {
      "image/png": "[encoded data removed]",
      "text/plain": [
       "<Figure size 432x288 with 1 Axes>"
      ]
     },
     "metadata": {
      "needs_background": "light"
     },
     "output_type": "display_data"
    }
   ],
   "source": [
    "plt.ylim(0.5,1.0)\n",
    "plt.plot(history.history[\"val_acc\"],label=\"Validointidatan tarkkus\") \n",
    "plt.plot(history.history[\"acc\"],label=\"Koulutusdatan tarkkuus\")\n",
    "plt.legend()\n",
    "plt.show()"
   ]
  },
  {
   "cell_type": "markdown",
   "metadata": {},
   "source": [
    "Tulos huononi hiukan. Puhdistetaan välillä muistia."
   ]
  },
  {
   "cell_type": "code",
   "execution_count": 12,
   "metadata": {},
   "outputs": [],
   "source": [
    "# Muistin puhdistus: tuhoaa nykyisen TF-graafin ja luo uuden.\n",
    "from keras import backend as K\n",
    "K.clear_session()"
   ]
  },
  {
   "cell_type": "markdown",
   "metadata": {},
   "source": [
    "Kokeillaan seuraavaksi tf_idf-piirrematriisia."
   ]
  },
  {
   "cell_type": "code",
   "execution_count": 4,
   "metadata": {},
   "outputs": [],
   "source": [
    "count_vect = TfidfVectorizer(max_features=100000)\n",
    "count_vect.fit(X_train)\n",
    "\n",
    "X_train_counts = count_vect.transform(X_train)\n",
    "X_dev_counts = count_vect.transform(X_dev)\n",
    "X_test_counts = count_vect.transform(X_test)"
   ]
  },
  {
   "cell_type": "code",
   "execution_count": 34,
   "metadata": {},
   "outputs": [
    {
     "data": {
      "text/plain": [
       "0.7436"
      ]
     },
     "execution_count": 34,
     "metadata": {},
     "output_type": "execute_result"
    }
   ],
   "source": [
    "features = X_train_counts.shape[1]\n",
    "nodes1 = 300\n",
    "model = create_model1(features, nodes1)\n",
    "\n",
    "es = EarlyStopping(monitor='val_loss', min_delta=0, patience=1, verbose=0, \n",
    "                   mode='auto', baseline=None, restore_best_weights=True)\n",
    "\n",
    "history = model.fit(X_train_counts, labels_train, epochs= 10, batch_size=100, \n",
    "                    validation_data=(X_dev_counts, labels_dev), verbose = 0, callbacks=[es])\n",
    "\n",
    "_, val_acc = model.evaluate(X_dev_counts, labels_dev, verbose=0)\n",
    "val_acc"
   ]
  },
  {
   "cell_type": "code",
   "execution_count": 35,
   "metadata": {},
   "outputs": [
    {
     "data": {
      "image/png": "[encoded data removed]",
      "text/plain": [
       "<Figure size 432x288 with 1 Axes>"
      ]
     },
     "metadata": {
      "needs_background": "light"
     },
     "output_type": "display_data"
    }
   ],
   "source": [
    "plt.ylim(0.5,1.0)\n",
    "plt.plot(history.history[\"val_acc\"],label=\"Validointidatan tarkkus\") \n",
    "plt.plot(history.history[\"acc\"],label=\"Koulutusdatan tarkkuus\")\n",
    "plt.legend()\n",
    "plt.show()"
   ]
  },
  {
   "cell_type": "markdown",
   "metadata": {},
   "source": [
    "Saatiin tähän mennessä paras tulos 74,4%\n",
    "\n",
    "Pienennetään tf_idf-matriisia poistamalla laajasti esiintyvät (max_df=0.7) ja hyvin harvoissa dokumenteissa esiintyvät (min_df=0.0001) sanat. Otetaan mukaan myös 2- ja 3-grammit. Piirteitä on nyt yhteensä 63569:"
   ]
  },
  {
   "cell_type": "code",
   "execution_count": 38,
   "metadata": {},
   "outputs": [],
   "source": [
    "count_vect = TfidfVectorizer(ngram_range=(1, 3), max_df=0.7, min_df=0.0001)\n",
    "count_vect.fit(X_train)\n",
    "\n",
    "X_train_counts = count_vect.transform(X_train)\n",
    "X_dev_counts = count_vect.transform(X_dev)\n",
    "X_test_counts = count_vect.transform(X_test)"
   ]
  },
  {
   "cell_type": "code",
   "execution_count": 40,
   "metadata": {},
   "outputs": [
    {
     "data": {
      "text/plain": [
       "0.7108"
      ]
     },
     "execution_count": 40,
     "metadata": {},
     "output_type": "execute_result"
    }
   ],
   "source": [
    "features = X_train_counts.shape[1]\n",
    "nodes1 = 300\n",
    "model = create_model1(features, nodes1)\n",
    "\n",
    "es = EarlyStopping(monitor='val_loss', min_delta=0, patience=1, verbose=0, \n",
    "                   mode='auto', baseline=None, restore_best_weights=True)\n",
    "\n",
    "history = model.fit(X_train_counts, labels_train, epochs= 10, batch_size=100, \n",
    "                    validation_data=(X_dev_counts, labels_dev), verbose = 0, callbacks=[es])\n",
    "\n",
    "_, val_acc = model.evaluate(X_dev_counts, labels_dev, verbose=0)\n",
    "val_acc"
   ]
  },
  {
   "cell_type": "code",
   "execution_count": 41,
   "metadata": {},
   "outputs": [
    {
     "data": {
      "image/png": "[encoded data removed]",
      "text/plain": [
       "<Figure size 432x288 with 1 Axes>"
      ]
     },
     "metadata": {
      "needs_background": "light"
     },
     "output_type": "display_data"
    }
   ],
   "source": [
    "plt.ylim(0.5,1.0)\n",
    "plt.plot(history.history[\"val_acc\"],label=\"Validointidatan tarkkus\") \n",
    "plt.plot(history.history[\"acc\"],label=\"Koulutusdatan tarkkuus\")\n",
    "plt.legend()\n",
    "plt.show()"
   ]
  },
  {
   "cell_type": "markdown",
   "metadata": {},
   "source": [
    "Tulos huononi jälleen. Kokeillaan vielä mallia jossa on kaksi piilotettua tasoa. "
   ]
  },
  {
   "cell_type": "code",
   "execution_count": 21,
   "metadata": {},
   "outputs": [],
   "source": [
    "count_vect = TfidfVectorizer(max_features=100000)\n",
    "count_vect.fit(X_train)\n",
    "\n",
    "X_train_counts = count_vect.transform(X_train)\n",
    "X_dev_counts = count_vect.transform(X_dev)\n",
    "X_test_counts = count_vect.transform(X_test)"
   ]
  },
  {
   "cell_type": "code",
   "execution_count": 44,
   "metadata": {},
   "outputs": [
    {
     "data": {
      "text/plain": [
       "0.7426"
      ]
     },
     "execution_count": 44,
     "metadata": {},
     "output_type": "execute_result"
    }
   ],
   "source": [
    "features = X_train_counts.shape[1]\n",
    "nodes1 = 256\n",
    "nodes2 = 64\n",
    "model = create_model2(features, nodes1, nodes2)\n",
    "\n",
    "es = EarlyStopping(monitor='val_loss', min_delta=0, patience=1, verbose=0, \n",
    "                   mode='auto', baseline=None, restore_best_weights=True)\n",
    "\n",
    "history = model.fit(X_train_counts, labels_train, epochs= 10, batch_size=100, \n",
    "                    validation_data=(X_dev_counts, labels_dev), verbose = 0, callbacks=[es])\n",
    "\n",
    "_, val_acc = model.evaluate(X_dev_counts, labels_dev, verbose=0)\n",
    "val_acc"
   ]
  },
  {
   "cell_type": "code",
   "execution_count": 45,
   "metadata": {},
   "outputs": [
    {
     "data": {
      "image/png": "[encoded data removed]",
      "text/plain": [
       "<Figure size 432x288 with 1 Axes>"
      ]
     },
     "metadata": {
      "needs_background": "light"
     },
     "output_type": "display_data"
    }
   ],
   "source": [
    "plt.ylim(0.5,1.0)\n",
    "plt.plot(history.history[\"val_acc\"],label=\"Validointidatan tarkkus\") \n",
    "plt.plot(history.history[\"acc\"],label=\"Koulutusdatan tarkkuus\")\n",
    "plt.legend()\n",
    "plt.show()"
   ]
  },
  {
   "cell_type": "markdown",
   "metadata": {},
   "source": [
    "Tulokseksi saatiin 74,3%. Tähän mennessä paras validointitarkkuus 74,4% saatiin tf_idf-vektoreilla ja yhdellä piilotetulla kerroksella, jossa oli 300 solua. \n",
    "\n",
    "Tähän asti optimointialgoritmina on käytetty rmsprop-algoritmia sen oletusarvoisella oppimisnopeusparametrin arvolla 0.001. Kokeillaan pienentää parametrin arvo puoleen."
   ]
  },
  {
   "cell_type": "code",
   "execution_count": 23,
   "metadata": {},
   "outputs": [],
   "source": [
    "features = X_train_counts.shape[1]\n",
    "model = models.Sequential()\n",
    "model.add(layers.Dense(300, activation='relu', input_shape=(features,)))\n",
    "model.add(layers.Dense(10, activation='softmax'))\n",
    "rmsprop = optimizers.RMSprop(lr=0.0005)\n",
    "model.compile(optimizer= rmsprop,\n",
    "              loss='categorical_crossentropy',\n",
    "              metrics=['accuracy'])"
   ]
  },
  {
   "cell_type": "code",
   "execution_count": 24,
   "metadata": {},
   "outputs": [
    {
     "data": {
      "text/plain": [
       "0.7416"
      ]
     },
     "execution_count": 24,
     "metadata": {},
     "output_type": "execute_result"
    }
   ],
   "source": [
    "es = EarlyStopping(monitor='val_loss', min_delta=0, patience=1, verbose=0, \n",
    "                   mode='auto', baseline=None, restore_best_weights=True)\n",
    "\n",
    "history = model.fit(X_train_counts, labels_train, epochs= 10, batch_size=100, \n",
    "                    validation_data=(X_dev_counts, labels_dev), verbose = 0, callbacks=[es])\n",
    "\n",
    "_, val_acc = model.evaluate(X_dev_counts, labels_dev, verbose=0)\n",
    "val_acc"
   ]
  },
  {
   "cell_type": "code",
   "execution_count": 25,
   "metadata": {},
   "outputs": [
    {
     "data": {
      "image/png": "[encoded data removed]",
      "text/plain": [
       "<Figure size 432x288 with 1 Axes>"
      ]
     },
     "metadata": {
      "needs_background": "light"
     },
     "output_type": "display_data"
    }
   ],
   "source": [
    "plt.ylim(0.5,1.0)\n",
    "plt.plot(history.history[\"val_acc\"],label=\"Validointidatan tarkkus\") \n",
    "plt.plot(history.history[\"acc\"],label=\"Koulutusdatan tarkkuus\")\n",
    "plt.legend()\n",
    "plt.show()"
   ]
  },
  {
   "cell_type": "markdown",
   "metadata": {},
   "source": [
    "Ainakaan näin pieni muutos oppimisnopeusparametrissä ei parantanut tulosta. Vaihdetaan optimointialgoritmi Adamiksi. RMSProp mukauttaa neuroverkon parametrien oppimisnopeutta keskimääräisen ensimmäisen momentin (keskiarvo) perusteella. Adam ottaa tämän lisäksi humioon myös gradienttien toiset momentit (varianssi). Käytetään Adamin oletusarvoisia parametriarvoja (learning_rate=0.001, beta_1=0.9, beta_2=0.999, amsgrad=False)."
   ]
  },
  {
   "cell_type": "code",
   "execution_count": 5,
   "metadata": {},
   "outputs": [],
   "source": [
    "features = X_train_counts.shape[1]\n",
    "model = models.Sequential()\n",
    "model.add(layers.Dense(300, activation='relu', input_shape=(features,)))\n",
    "model.add(layers.Dense(10, activation='softmax'))\n",
    "model.compile(optimizer= 'adam',\n",
    "              loss='categorical_crossentropy',\n",
    "              metrics=['accuracy'])"
   ]
  },
  {
   "cell_type": "code",
   "execution_count": 6,
   "metadata": {},
   "outputs": [
    {
     "data": {
      "text/plain": [
       "0.7451"
      ]
     },
     "execution_count": 6,
     "metadata": {},
     "output_type": "execute_result"
    }
   ],
   "source": [
    "es = EarlyStopping(monitor='val_loss', min_delta=0, patience=1, verbose=0, \n",
    "                   mode='auto', baseline=None, restore_best_weights=True)\n",
    "\n",
    "history = model.fit(X_train_counts, labels_train, epochs= 10, batch_size=100, \n",
    "                    validation_data=(X_dev_counts, labels_dev), verbose = 0, callbacks=[es])\n",
    "\n",
    "_, val_acc = model.evaluate(X_dev_counts, labels_dev, verbose=0)\n",
    "val_acc"
   ]
  },
  {
   "cell_type": "code",
   "execution_count": 7,
   "metadata": {},
   "outputs": [
    {
     "data": {
      "image/png": "[encoded data removed]",
      "text/plain": [
       "<Figure size 432x288 with 1 Axes>"
      ]
     },
     "metadata": {
      "needs_background": "light"
     },
     "output_type": "display_data"
    }
   ],
   "source": [
    "plt.ylim(0.5,1.0)\n",
    "plt.plot(history.history[\"val_acc\"],label=\"Validointidatan tarkkus\") \n",
    "plt.plot(history.history[\"acc\"],label=\"Koulutusdatan tarkkuus\")\n",
    "plt.legend()\n",
    "plt.show()"
   ]
  },
  {
   "cell_type": "markdown",
   "metadata": {},
   "source": [
    "Saatiin tähän asti paras validointitarkkuus 74,5%, mutta validointitarkkuus laskee jo heti ensimmäisen kierroksen jälkeen. Koitetaan pienentää oppimisnopeutta kymmenesosaan.\n",
    "\n",
    "Ensemble-menetelmät perustuvat teoriaan, että kun yhdistetään eri luokittelijoita, joista jokainen ennustaa paremmin kuin satunnainen arvaaminen, satunnaiset virheet kumoavat toisensa ja oikeat päätökset vahvistuvat.  Yksi tapa luoda erilaisia luokittelijoita, on käyttää luokittelijoiden kouluttamiseen erilaisia otoksia koulutusdatasta. Neuroverkkojen tapauksessa käytännöllinen tapa muodostaa lukuisia erilaisia aliverkkoja on lisätä dropout-kerros, joka maskaa valitun osuuden kerroksen solmuista pois kertomalla ulostuloarvon nollalla. Lisätään myös tällainen dropout-kerros malliin.\n",
    "\n",
    "Opetusajat alkavat olemaan jo niin pitkiä, että lisään myös opetuksen edistymisenseurannan näkyviin. Tämä tehdään asettamalla parametri verbose = 1."
   ]
  },
  {
   "cell_type": "code",
   "execution_count": 13,
   "metadata": {},
   "outputs": [],
   "source": [
    "features = X_train_counts.shape[1]\n",
    "model = models.Sequential()\n",
    "model.add(layers.Dense(300, activation='relu', input_shape=(features,)))\n",
    "model.add(layers.Dropout(rate=0.5))\n",
    "model.add(layers.Dense(10, activation='softmax'))\n",
    "adam = optimizers.Adam(lr=0.0001)\n",
    "model.compile(optimizer= adam,\n",
    "              loss='categorical_crossentropy',\n",
    "              metrics=['accuracy'])"
   ]
  },
  {
   "cell_type": "code",
   "execution_count": 14,
   "metadata": {},
   "outputs": [
    {
     "name": "stdout",
     "output_type": "stream",
     "text": [
      "Train on 100000 samples, validate on 10000 samples\n",
      "Epoch 1/30\n",
      "100000/100000 [==============================] - 952s 10ms/step - loss: 2.1428 - acc: 0.5306 - val_loss: 1.8973 - val_acc: 0.6800\n",
      "Epoch 2/30\n",
      "100000/100000 [==============================] - 970s 10ms/step - loss: 1.5832 - acc: 0.7279 - val_loss: 1.3889 - val_acc: 0.7138\n",
      "Epoch 3/30\n",
      "100000/100000 [==============================] - 947s 9ms/step - loss: 1.1194 - acc: 0.7814 - val_loss: 1.1109 - val_acc: 0.7312\n",
      "Epoch 4/30\n",
      "100000/100000 [==============================] - 956s 10ms/step - loss: 0.8527 - acc: 0.8162 - val_loss: 0.9671 - val_acc: 0.7412\n",
      "Epoch 5/30\n",
      "100000/100000 [==============================] - 947s 9ms/step - loss: 0.6842 - acc: 0.8479 - val_loss: 0.8854 - val_acc: 0.7495\n",
      "Epoch 6/30\n",
      "100000/100000 [==============================] - 948s 9ms/step - loss: 0.5675 - acc: 0.8703 - val_loss: 0.8364 - val_acc: 0.7540\n",
      "Epoch 7/30\n",
      "100000/100000 [==============================] - 947s 9ms/step - loss: 0.4763 - acc: 0.8924 - val_loss: 0.8062 - val_acc: 0.7545\n",
      "Epoch 8/30\n",
      "100000/100000 [==============================] - 947s 9ms/step - loss: 0.4037 - acc: 0.9078 - val_loss: 0.7872 - val_acc: 0.7573\n",
      "Epoch 9/30\n",
      "100000/100000 [==============================] - 947s 9ms/step - loss: 0.3438 - acc: 0.9223 - val_loss: 0.7779 - val_acc: 0.7570\n",
      "Epoch 10/30\n",
      "100000/100000 [==============================] - 951s 10ms/step - loss: 0.2926 - acc: 0.9354 - val_loss: 0.7754 - val_acc: 0.7549\n",
      "Epoch 11/30\n",
      "100000/100000 [==============================] - 958s 10ms/step - loss: 0.2507 - acc: 0.9450 - val_loss: 0.7773 - val_acc: 0.7539\n",
      "Epoch 12/30\n",
      "100000/100000 [==============================] - 956s 10ms/step - loss: 0.2150 - acc: 0.9540 - val_loss: 0.7828 - val_acc: 0.7517\n"
     ]
    },
    {
     "data": {
      "text/plain": [
       "0.7549"
      ]
     },
     "execution_count": 14,
     "metadata": {},
     "output_type": "execute_result"
    }
   ],
   "source": [
    "es = EarlyStopping(monitor='val_loss', min_delta=0, patience=2, verbose=0, \n",
    "                   mode='auto', baseline=None, restore_best_weights=True)\n",
    "\n",
    "history = model.fit(X_train_counts, labels_train, epochs= 30, batch_size=100, \n",
    "                    validation_data=(X_dev_counts, labels_dev), verbose = 1, callbacks=[es])\n",
    "\n",
    "_, val_acc = model.evaluate(X_dev_counts, labels_dev, verbose=0)\n",
    "val_acc"
   ]
  },
  {
   "cell_type": "code",
   "execution_count": 15,
   "metadata": {},
   "outputs": [
    {
     "data": {
      "image/png": "[encoded data removed]",
      "text/plain": [
       "<Figure size 432x288 with 1 Axes>"
      ]
     },
     "metadata": {
      "needs_background": "light"
     },
     "output_type": "display_data"
    }
   ],
   "source": [
    "plt.ylim(0.5,1.0)\n",
    "plt.plot(history.history[\"val_acc\"],label=\"Validointidatan tarkkus\") \n",
    "plt.plot(history.history[\"acc\"],label=\"Koulutusdatan tarkkuus\")\n",
    "plt.legend()\n",
    "plt.show()"
   ]
  },
  {
   "cell_type": "markdown",
   "metadata": {},
   "source": [
    "Saimme parhaan tuloksen 75,5%. Arvioidaan vielä parhaan mallin luotettavuus testidatalla."
   ]
  },
  {
   "cell_type": "code",
   "execution_count": 28,
   "metadata": {},
   "outputs": [
    {
     "name": "stdout",
     "output_type": "stream",
     "text": [
      "10000/10000 [==============================] - 30s 3ms/step\n"
     ]
    },
    {
     "data": {
      "text/plain": [
       "0.736"
      ]
     },
     "execution_count": 28,
     "metadata": {},
     "output_type": "execute_result"
    }
   ],
   "source": [
    "_, val_acc = model.evaluate(X_test_counts, labels_test, verbose=1)\n",
    "val_acc"
   ]
  },
  {
   "cell_type": "markdown",
   "metadata": {},
   "source": [
    "Testidatalla tarkkudeksi saatiin 73,6%."
   ]
  },
  {
   "cell_type": "markdown",
   "metadata": {},
   "source": [
    "### 4.5 Neuroverkko käyttäen sanaupotuksia (word embeddings)\n",
    "Sanaupotukset ovat sanan merkitystä kuvaavia realilukuarvoisia vektoreita. Perusideana on, että sanan merkitys voidaan määrittää sen perusteella, minkä muiden sanojen yhteydessä se esiintyy. Näin semanttisesti toisiaan lähellä olevat sanat sijoittuvat myös vektoriavaruudessa lähelle tosiaan.\n",
    "\n",
    "Sanaupotuksia on mahdollista opettaa valmiilla neuroverkomalleilla omasta aineistosta. Tällaisia työkaluja ovat ainakin Googlen kehittämä word2vec, Facebookin kehittämä fastText ja Stanford Universityn kehittämä GloVe. Tämä vaatii kuitenkin suuren datamäärän sekä runsaasti laskentakapasiteettia. Siksi usein käytetäänkin valmiiksi opetettuja (jollakin kattavalla aineistolla) sanaupotuksia.\n",
    "\n",
    "Suomenkielessä sanoilla on useita taivutusmuotoja ja sanajohdoksia. FastText sopii hyvin suomenkielisten sanojen vektoriesitysten mudostukseen, koska se hyödyntää mallissaan myös sanojen alimerkkijonoja.\n",
    "\n",
    "Osoitteesta https://fasttext.cc/docs/en/crawl-vectors.html voi ladata FastTextin valmiit sanaupotusvektorit 157 kielelle. Olen tallentanut sieltä koneelleni suomekielisten sanojen vektoriesitykset tekstimuodossa. Ladataan tämä sanaupotusmalliksi.\n"
   ]
  },
  {
   "cell_type": "code",
   "execution_count": 7,
   "metadata": {},
   "outputs": [],
   "source": [
    "embmodel=KeyedVectors.load_word2vec_format(\"cc.fi.300.vec.gz\", binary=False)"
   ]
  },
  {
   "cell_type": "code",
   "execution_count": 8,
   "metadata": {},
   "outputs": [
    {
     "data": {
      "text/plain": [
       "(2000000, 300)"
      ]
     },
     "execution_count": 8,
     "metadata": {},
     "output_type": "execute_result"
    }
   ],
   "source": [
    "embmodel.vectors.shape"
   ]
  },
  {
   "cell_type": "markdown",
   "metadata": {},
   "source": [
    "Mallissa on yhteensä kaksi miljoonaa sanaa. Jokainen matriisin rivi edustaa yhtä sanaa. Sarakkeiden lukumäärästä nähdään, että sanat esitetään 300-dimensioisen avaruuden vektoreina.\n",
    "\n",
    "Tutkitaan hieman mallin ominaisuuksia. Sanojen läheisyys lasketaan käyttäen kosini samankaltaisuutta. Suure saa suurimman arvonsa 1, kun vektoreiden välinen kulma on 0, ja pienimmän arvon 0, kun vektorit ovat ortogonaalisia suhteessa toisiinsa. "
   ]
  },
  {
   "cell_type": "code",
   "execution_count": 9,
   "metadata": {},
   "outputs": [
    {
     "name": "stdout",
     "output_type": "stream",
     "text": [
      "Lähimpänä sanaa 'peli' löytyvät sanat:\n",
      "[('15-peli', 0.7574991583824158), ('ohipeli', 0.7506250143051147), ('DS-peli', 0.7480830550193787), ('peli.', 0.7412402629852295), ('peruspeli', 0.7381929159164429), ('PSP-peli', 0.7369946241378784), ('GP-peli', 0.7369784116744995), ('perhepeli', 0.7339655160903931), ('puzzlepeli', 0.7338589429855347), ('puzzle-peli', 0.7330989241600037)]\n",
      "\n",
      "Sanojen 'jalkapallo' ja 'jääkiekko' samanlaisuus:\n",
      "0.71136767\n",
      "Sanojen 'jalkapallo' ja 'jää' samanlaisuus:\n",
      "0.1774352\n"
     ]
    }
   ],
   "source": [
    "print(\"Lähimpänä sanaa 'peli' löytyvät sanat:\")\n",
    "print(embmodel.most_similar(\"peli\",topn=10))\n",
    "print()\n",
    "\n",
    "print(\"Sanojen 'jalkapallo' ja 'jääkiekko' samanlaisuus:\")\n",
    "print(embmodel.similarity(\"jalkapallo\", \"jääkiekko\"))\n",
    "print(\"Sanojen 'jalkapallo' ja 'jää' samanlaisuus:\")\n",
    "print(embmodel.similarity(\"jalkapallo\", \"jää\"))"
   ]
  },
  {
   "cell_type": "markdown",
   "metadata": {},
   "source": [
    "Jotta nämä valmiit sanaupotusvektorit pystyttäisiin yhdistämään alkuperäisten tekstidokumenttiemme sanoihin, meidän pitää vektorisoida alkuperäiset tekstidokumentit uudella tavalla. Ensin koko korpuksen sanasto indeksoidaan. Sitten jokaisesta dokumentista muodostetaan lista kokonaislukuja niin, että jokainen dokumentin sana korvataan kyseistä sanaa vastaavalla indeksillä. Tämä voidaan tehdä helposti käyttämällä Kerasin Tokenizer-apuohjelmaluokkaa. Tietokoneeni rajallisen muistikapasiteetin vuoksi otetaan malliin mukaan vain 100 000 yleisintä sanaa."
   ]
  },
  {
   "cell_type": "code",
   "execution_count": 29,
   "metadata": {},
   "outputs": [],
   "source": [
    "tokenizer = Tokenizer(num_words=100000)\n",
    "tokenizer.fit_on_texts(X_train)\n",
    "\n",
    "word_index = tokenizer.word_index\n",
    "\n",
    "Xseq_train = tokenizer.texts_to_sequences(X_train)\n",
    "Xseq_dev = tokenizer.texts_to_sequences(X_dev)\n",
    "Xseq_test = tokenizer.texts_to_sequences(X_test)"
   ]
  },
  {
   "cell_type": "code",
   "execution_count": 30,
   "metadata": {},
   "outputs": [
    {
     "name": "stdout",
     "output_type": "stream",
     "text": [
      "Autohifikritiikki perustuu siihen , että äänentoiston asentajat eivät ymmärrä puhtaan äänen päälle , vaan rakentavat epätasapainoisia järjestelmiä . Ylilyödyt bassot ovat yleisimpiä ongelmia ja vain harva tekee äänentoiston kunnolla . Toinen tekijä on siinä , että monessa autossa perussetti on tarpeeksi pätevä . Kun auto pitää kovaa meteliä , niin laadukkaaseen äänentoistoon turha panostaa ellei panosta kunnon äänieristykseen .\n",
      "[1070, 87, 4, 37809, 47099, 73, 354, 10786, 7593, 244, 26, 13196, 14669, 78199, 28, 31656, 521, 1, 18, 1907, 182, 37809, 492, 205, 2151, 2, 61, 4, 2911, 1420, 37810, 2, 331, 3808, 8, 269, 65, 935, 11681, 6, 47100, 519, 2779, 448, 7871, 381]\n"
     ]
    }
   ],
   "source": [
    "print(X_train[1000])\n",
    "print(Xseq_train[1000])"
   ]
  },
  {
   "cell_type": "markdown",
   "metadata": {},
   "source": [
    "Yllä nähdään, miten ensimmäinen viesti on muutettu niitä vastaavien sanaindeksien listaksi.\n",
    "\n",
    "Koska dokumenttien sisältämä sanamäärä vaihtelee, myös niistä muodostettuen sanaindeksilistojen pituus vaihtelee. Tokenizer aloittaa sanaston indeksoinnin luvusta 1. Indeksi 0 ei siis vastaa mitään sanaa, joten sitä voidaan käyttää \"listan täytteenä\" (padding), kun kaikista dokumenteista halutaan muodostaa keskenään saman pituisia listoja. "
   ]
  },
  {
   "cell_type": "markdown",
   "metadata": {},
   "source": [
    "Muodostetaan nyt kaikista dokumenteista (viesteistä) saman pituiset sanaindeksilistat lisäämällä loppuun vaadittava määrä indeksejä 0. tehdään tämä käyttäen Kerasin pad_sequences-luokkaa."
   ]
  },
  {
   "cell_type": "code",
   "execution_count": 31,
   "metadata": {},
   "outputs": [
    {
     "name": "stdout",
     "output_type": "stream",
     "text": [
      "[62914 77475   148 ...     0     0     0]\n",
      "1307\n"
     ]
    }
   ],
   "source": [
    "Xpad_train = pad_sequences(Xseq_train, padding='post')\n",
    "print(Xpad_train[0])\n",
    "max_words = len(Xpad_train[0])\n",
    "print(max_words)"
   ]
  },
  {
   "cell_type": "markdown",
   "metadata": {},
   "source": [
    "Tehdään validointi- ja testiaineistojen vektoreista saman pituisia kuin koulutusaineiston pisin viesti (1307 sanaa). Tallennetaan vektorit myöhempää käyttöä varten."
   ]
  },
  {
   "cell_type": "code",
   "execution_count": 32,
   "metadata": {},
   "outputs": [
    {
     "name": "stdout",
     "output_type": "stream",
     "text": [
      "1307\n"
     ]
    }
   ],
   "source": [
    "Xpad_dev = pad_sequences(Xseq_dev, maxlen=max_words, padding='post')\n",
    "Xpad_test = pad_sequences(Xseq_test, maxlen=max_words, padding='post')\n",
    "print(len(Xpad_dev[0]))"
   ]
  },
  {
   "cell_type": "code",
   "execution_count": 33,
   "metadata": {},
   "outputs": [],
   "source": [
    "np.save('Xpad_train.npy', Xpad_train)\n",
    "np.save('Xpad_dev.npy', Xpad_dev)\n",
    "np.save('Xpad_test.npy', Xpad_test)"
   ]
  },
  {
   "cell_type": "markdown",
   "metadata": {},
   "source": [
    "Seuraavaksi muodostetaan matriisi, joka yhdistää viesteistä muodostetun sanaston sanat upotussanavektoreihin. Eli matriisin rivillä 1 on viesteistä muodostetun sanaston indeksiä 1 vastaavan sanan 'ja' 300-dimensioinen upotusvektori. Jos sanalle ei löydy upotusvektoria, sitä vastaavan vektorin kaikki luvut jäävät matriisissa arvoon 0."
   ]
  },
  {
   "cell_type": "code",
   "execution_count": 15,
   "metadata": {},
   "outputs": [],
   "source": [
    "embmatrix =  np.zeros((100001, 300))\n",
    "count = 0\n",
    "for word, i in word_index.items(): \n",
    "    if i < 100001:\n",
    "        if word in embmodel.vocab:\n",
    "            embmatrix[i] = embmodel.get_vector(word)\n",
    "            count += 1"
   ]
  },
  {
   "cell_type": "code",
   "execution_count": 20,
   "metadata": {},
   "outputs": [],
   "source": [
    "np.save('embmatrix.npy', embmatrix)"
   ]
  },
  {
   "cell_type": "code",
   "execution_count": 16,
   "metadata": {},
   "outputs": [
    {
     "data": {
      "text/plain": [
       "array([ 6.85999990e-02,  7.13000000e-02, -3.77999991e-02, -1.22199997e-01,\n",
       "       -4.28000018e-02, -1.84699997e-01,  2.77999993e-02, -4.28999998e-02,\n",
       "        4.50500011e-01, -8.00000038e-03,  4.74999994e-02,  6.40000030e-02,\n",
       "        6.49999976e-02, -9.53999981e-02, -2.07000002e-02,  1.76999997e-02,\n",
       "        7.64999986e-02,  2.43999995e-02, -2.25000009e-02,  5.75999990e-02,\n",
       "        2.14300007e-01,  3.68000008e-02, -7.81000033e-02, -3.77999991e-02,\n",
       "        6.43000007e-02, -7.10000005e-03,  6.58000037e-02, -8.10000002e-02,\n",
       "       -1.70800000e-01, -3.06000002e-02, -1.43700004e-01, -7.53000006e-02,\n",
       "       -4.17999998e-02,  5.57000004e-02, -1.84200004e-01,  6.17000014e-02,\n",
       "       -8.16000029e-02, -4.49999981e-03, -5.40999994e-02,  1.02000004e-02,\n",
       "       -3.99999990e-04,  1.41700000e-01, -1.70000002e-03, -3.05000003e-02,\n",
       "        3.84999998e-02, -5.71999997e-02, -1.47000002e-02, -5.90000022e-03,\n",
       "       -4.34999987e-02, -3.75000015e-02,  2.19200000e-01,  1.53000001e-02,\n",
       "        1.64999999e-02,  3.46999988e-02,  1.30000000e-03,  2.38000005e-02,\n",
       "        1.43999998e-02, -1.33999996e-02,  2.92000007e-02,  2.17000004e-02,\n",
       "       -5.20000001e-03,  2.19000001e-02, -1.48800001e-01, -6.27999976e-02,\n",
       "        4.45999987e-02, -7.11999983e-02, -9.60000046e-03, -3.94000001e-02,\n",
       "        4.10000002e-03,  1.99999995e-04, -1.87500000e-01, -5.60999997e-02,\n",
       "       -2.00000009e-03, -4.52999994e-02,  5.33999987e-02, -7.49999983e-03,\n",
       "       -6.36999980e-02,  9.49999969e-03, -4.69000004e-02, -8.34999979e-02,\n",
       "       -7.55999982e-02, -3.83000001e-02, -1.42399997e-01, -1.57800004e-01,\n",
       "       -5.37000000e-02,  2.74000000e-02,  4.93000001e-02,  5.53000011e-02,\n",
       "        1.16999997e-02,  2.41999999e-02,  7.73999989e-02, -9.80000012e-03,\n",
       "       -2.37700000e-01,  1.09999999e-03, -3.33000012e-02,  2.26000007e-02,\n",
       "       -6.01999983e-02,  4.28000018e-02, -9.89999995e-02, -2.00000009e-03,\n",
       "       -4.03000005e-02,  9.91000012e-02, -5.70000010e-03, -1.54999997e-02,\n",
       "        3.29000019e-02,  6.08999990e-02, -2.95000002e-02,  6.80000009e-03,\n",
       "       -5.73000014e-02,  6.94999993e-02, -5.31000011e-02,  2.00999994e-02,\n",
       "        2.99999993e-02,  8.51000026e-02,  1.81000009e-02,  9.51000005e-02,\n",
       "        5.81000000e-02,  2.98999995e-02, -1.18799999e-01,  8.57999995e-02,\n",
       "       -3.86999995e-02,  7.59000033e-02, -2.76999995e-02,  1.03299998e-01,\n",
       "       -9.39999986e-03,  1.35000004e-02,  7.72000030e-02, -1.92000002e-01,\n",
       "        3.57999988e-02,  1.30999997e-01,  2.33999994e-02,  1.15699999e-01,\n",
       "       -9.54999998e-02,  1.56999994e-02, -3.42000015e-02,  2.74000000e-02,\n",
       "        5.95000014e-02, -1.26000002e-01, -4.60000010e-03,  6.43000007e-02,\n",
       "       -6.81999996e-02,  3.09999995e-02,  8.29999987e-03, -1.00800000e-01,\n",
       "        2.95000002e-02,  6.00000005e-03, -4.03000005e-02,  1.36000002e-02,\n",
       "        3.24999988e-02,  1.00500003e-01,  4.76999991e-02, -8.00000038e-03,\n",
       "        1.97999999e-02,  1.47000002e-02,  3.22000012e-02,  1.24000004e-02,\n",
       "       -2.62899995e-01, -4.49000001e-02, -2.09999993e-03, -2.80000009e-02,\n",
       "       -1.11400001e-01,  2.87699997e-01,  3.70000005e-02,  1.16400003e-01,\n",
       "        7.79999979e-03, -7.72000030e-02,  3.62000018e-02, -9.42000002e-02,\n",
       "       -6.75000027e-02, -1.46300003e-01, -8.99999961e-03, -1.65900007e-01,\n",
       "       -3.99000011e-02,  6.69999979e-03, -1.25699997e-01,  7.10000023e-02,\n",
       "       -3.64999995e-02, -5.07999994e-02, -4.12999988e-02,  5.90000022e-03,\n",
       "       -6.37999997e-02, -6.39999984e-03,  7.72000030e-02, -2.49999994e-03,\n",
       "        1.15099996e-01, -2.60000005e-02, -3.09999995e-02,  8.99999985e-04,\n",
       "       -3.88999991e-02,  9.04999971e-02, -3.20999995e-02,  4.52999994e-02,\n",
       "       -1.25200003e-01, -1.73099995e-01,  3.80000006e-03, -3.07000000e-02,\n",
       "       -7.05000013e-02,  4.98999991e-02, -5.37000000e-02,  3.42999995e-02,\n",
       "        2.67699987e-01,  6.30000001e-03,  6.10999987e-02, -5.22000007e-02,\n",
       "        2.32999995e-02, -4.21999991e-02,  6.99999975e-04,  3.26999985e-02,\n",
       "        6.62999973e-02, -2.30000000e-02,  6.27999976e-02,  1.09999999e-03,\n",
       "       -8.25999975e-02, -1.09999999e-02, -1.55999996e-02,  6.52000010e-02,\n",
       "        1.89600006e-01, -2.66999993e-02, -9.82000008e-02, -7.88000003e-02,\n",
       "        5.86000010e-02, -5.77000007e-02, -1.99999996e-02, -9.09999982e-02,\n",
       "        2.34999992e-02,  5.42999990e-02,  1.23300001e-01, -1.21999998e-02,\n",
       "       -8.89999978e-03,  5.60999997e-02,  9.08999965e-02,  4.36000004e-02,\n",
       "        4.58999984e-02, -2.37000007e-02,  2.84000002e-02, -8.99000019e-02,\n",
       "       -7.59000033e-02, -6.00000005e-03, -3.07999998e-02, -3.64999995e-02,\n",
       "        1.24000004e-02,  3.20000015e-02,  2.51000002e-02, -8.50000046e-03,\n",
       "       -5.90999983e-02,  5.18000014e-02, -5.46000004e-02, -3.20999995e-02,\n",
       "       -5.79999993e-03, -2.18000002e-02,  6.53000027e-02, -3.66999991e-02,\n",
       "       -2.30999999e-02, -8.15000013e-02,  2.80000009e-02, -1.83500007e-01,\n",
       "        1.29000004e-02,  4.90000006e-03, -4.85000014e-02,  1.21900000e-01,\n",
       "        4.72000018e-02, -1.09000001e-02,  1.88999996e-02, -1.40000004e-02,\n",
       "       -5.82999997e-02,  5.88999987e-02,  5.71999997e-02,  9.01999995e-02,\n",
       "        1.09000001e-02,  3.77999991e-02,  3.18999998e-02,  1.52000003e-02,\n",
       "        2.04000007e-02,  1.64000001e-02, -7.86999986e-02,  3.29999998e-02,\n",
       "       -1.88999996e-02,  3.46000008e-02, -9.36999992e-02, -6.17000014e-02,\n",
       "       -5.75000010e-02, -1.53000001e-02, -2.07000002e-02,  1.53999999e-02,\n",
       "       -5.77999987e-02, -7.06000030e-02, -3.51000018e-02,  6.53699994e-01,\n",
       "       -3.70000005e-02, -9.49999969e-03, -5.66000007e-02, -5.40999994e-02,\n",
       "        7.72000030e-02,  5.68999983e-02,  6.08000010e-02, -6.99999975e-04,\n",
       "        2.09999997e-02,  4.76000011e-02, -3.88000011e-02, -2.50000004e-02])"
      ]
     },
     "execution_count": 16,
     "metadata": {},
     "output_type": "execute_result"
    }
   ],
   "source": [
    "embmatrix[1]"
   ]
  },
  {
   "cell_type": "code",
   "execution_count": 19,
   "metadata": {},
   "outputs": [
    {
     "name": "stdout",
     "output_type": "stream",
     "text": [
      "Upotusvektori löytyi  86570  sanalle.\n"
     ]
    }
   ],
   "source": [
    " print('Upotusvektori löytyi ',count, ' sanalle.') "
   ]
  },
  {
   "cell_type": "markdown",
   "metadata": {},
   "source": [
    "Nyt olemme valmiita muodostamaan upotusvektoreita hyödyntävän neuroverkon. Embedding-kerroksen 2D-tulosta ei pysty suoraan yhdistämään Dense-kerrokseen, joka käsittelee 1D-syötteitä. Tämän vuoksi Enbedded-kerroksen tulos täytyy muuntaa 1D:ksi joko litistämällä tulos Flatten-kerroksella tai käyttämällä GlobalMaxPool1D- tai GlobalAveragePool1D-kerroksia (palauttavat litistettävän dimension kaikkien piirteiden maksimin tai keskiarvon)."
   ]
  },
  {
   "cell_type": "code",
   "execution_count": 9,
   "metadata": {},
   "outputs": [
    {
     "name": "stdout",
     "output_type": "stream",
     "text": [
      "_________________________________________________________________\n",
      "Layer (type)                 Output Shape              Param #   \n",
      "=================================================================\n",
      "embedding_1 (Embedding)      (None, 1307, 300)         30000300  \n",
      "_________________________________________________________________\n",
      "flatten_1 (Flatten)          (None, 392100)            0         \n",
      "_________________________________________________________________\n",
      "dense_3 (Dense)              (None, 64)                25094464  \n",
      "_________________________________________________________________\n",
      "dense_4 (Dense)              (None, 10)                650       \n",
      "=================================================================\n",
      "Total params: 55,095,414\n",
      "Trainable params: 25,095,114\n",
      "Non-trainable params: 30,000,300\n",
      "_________________________________________________________________\n"
     ]
    }
   ],
   "source": [
    "model = models.Sequential()\n",
    "model.add(layers.Embedding(input_dim=100001, \n",
    "                           output_dim=300, \n",
    "                           weights = [embmatrix],\n",
    "                           input_length = 1307,\n",
    "                           trainable=False ))\n",
    "model.add(layers.Flatten())\n",
    "model.add(layers.Dense(64, activation='relu'))\n",
    "model.add(layers.Dense(10, activation='softmax'))\n",
    "model.compile(optimizer='adam', \n",
    "              loss='categorical_crossentropy',\n",
    "              metrics=['accuracy'])\n",
    "model.summary()"
   ]
  },
  {
   "cell_type": "code",
   "execution_count": 11,
   "metadata": {},
   "outputs": [
    {
     "data": {
      "text/plain": [
       "0.5815"
      ]
     },
     "execution_count": 11,
     "metadata": {},
     "output_type": "execute_result"
    }
   ],
   "source": [
    "es = EarlyStopping(monitor='val_loss', min_delta=0, patience=1, verbose=0, \n",
    "                   mode='auto', baseline=None, restore_best_weights=True)\n",
    "\n",
    "history = model.fit(Xpad_train, labels_train, epochs= 10, batch_size=100, \n",
    "                    validation_data=(Xpad_dev, labels_dev), verbose = 0, callbacks=[es])\n",
    "\n",
    "_, val_acc = model.evaluate(Xpad_dev, labels_dev, verbose=0)\n",
    "val_acc"
   ]
  },
  {
   "cell_type": "code",
   "execution_count": 12,
   "metadata": {},
   "outputs": [
    {
     "data": {
      "image/png": "[encoded data removed]",
      "text/plain": [
       "<Figure size 432x288 with 1 Axes>"
      ]
     },
     "metadata": {
      "needs_background": "light"
     },
     "output_type": "display_data"
    }
   ],
   "source": [
    "plt.ylim(0,1.0)\n",
    "plt.plot(history.history[\"val_acc\"],label=\"Validointidatan tarkkus\") \n",
    "plt.plot(history.history[\"acc\"],label=\"Koulutusdatan tarkkuus\")\n",
    "plt.legend()\n",
    "plt.show()"
   ]
  },
  {
   "cell_type": "markdown",
   "metadata": {},
   "source": [
    "Tuli harmillisen huono tulos. Lisätään malliin konvoluutiokerros embedding-kerroksen jälkeen ja korvataan Flatten-kerros GlobalMaxPool1D-kerroksella. Lisätään myös dropout-kerros ja kasvatetaan Early stopping-menetelmän patience-parametrin arvo viiteen, jolloin neuroverkon kouluttaminen loppuu vasta, kun validointitulos ei ole parantunut viimeisen viiden kierroksen aikana."
   ]
  },
  {
   "cell_type": "code",
   "execution_count": 17,
   "metadata": {},
   "outputs": [
    {
     "name": "stdout",
     "output_type": "stream",
     "text": [
      "_________________________________________________________________\n",
      "Layer (type)                 Output Shape              Param #   \n",
      "=================================================================\n",
      "embedding_4 (Embedding)      (None, 1307, 300)         30000300  \n",
      "_________________________________________________________________\n",
      "conv1d_2 (Conv1D)            (None, 1303, 128)         192128    \n",
      "_________________________________________________________________\n",
      "global_max_pooling1d_2 (Glob (None, 128)               0         \n",
      "_________________________________________________________________\n",
      "dropout_1 (Dropout)          (None, 128)               0         \n",
      "_________________________________________________________________\n",
      "dense_5 (Dense)              (None, 64)                8256      \n",
      "_________________________________________________________________\n",
      "dense_6 (Dense)              (None, 10)                650       \n",
      "=================================================================\n",
      "Total params: 30,201,334\n",
      "Trainable params: 201,034\n",
      "Non-trainable params: 30,000,300\n",
      "_________________________________________________________________\n"
     ]
    }
   ],
   "source": [
    "model = models.Sequential()\n",
    "model.add(layers.Embedding(input_dim=100001, \n",
    "                           output_dim=300, \n",
    "                           weights = [embmatrix],\n",
    "                           input_length = 1307,\n",
    "                           trainable=False ))\n",
    "model.add(layers.Conv1D(128, 5, activation='relu'))\n",
    "model.add(layers.GlobalMaxPool1D())\n",
    "model.add(layers.Dropout(rate=0.5))\n",
    "model.add(layers.Dense(64, activation='relu'))\n",
    "model.add(layers.Dense(10, activation='softmax'))\n",
    "model.compile(optimizer='adam', \n",
    "              loss='categorical_crossentropy',\n",
    "              metrics=['accuracy'])\n",
    "model.summary()"
   ]
  },
  {
   "cell_type": "code",
   "execution_count": 18,
   "metadata": {},
   "outputs": [
    {
     "data": {
      "text/plain": [
       "0.6941"
      ]
     },
     "execution_count": 18,
     "metadata": {},
     "output_type": "execute_result"
    }
   ],
   "source": [
    "es = EarlyStopping(monitor='val_loss', min_delta=0, patience=5, verbose=0, \n",
    "                   mode='auto', baseline=None, restore_best_weights=True)\n",
    "\n",
    "history = model.fit(Xpad_train, labels_train, epochs= 10, batch_size=100, \n",
    "                    validation_data=(Xpad_dev, labels_dev), verbose = 0, callbacks=[es])\n",
    "\n",
    "_, val_acc = model.evaluate(Xpad_dev, labels_dev, verbose=0)\n",
    "val_acc"
   ]
  },
  {
   "cell_type": "code",
   "execution_count": 19,
   "metadata": {},
   "outputs": [
    {
     "data": {
      "image/png": "[encoded data removed]",
      "text/plain": [
       "<Figure size 432x288 with 1 Axes>"
      ]
     },
     "metadata": {
      "needs_background": "light"
     },
     "output_type": "display_data"
    }
   ],
   "source": [
    "plt.ylim(0,1.0)\n",
    "plt.plot(history.history[\"val_acc\"],label=\"Validointidatan tarkkuus\") \n",
    "plt.plot(history.history[\"acc\"],label=\"Koulutusdatan tarkkuus\")\n",
    "plt.legend()\n",
    "plt.show()"
   ]
  },
  {
   "cell_type": "markdown",
   "metadata": {},
   "source": [
    "Tämän mallin koulutusajo kestikin kotikoneella jo yli 12 tuntia. Tarkkuudeksi saatiin validointidatalla 69.4%. Pienemmällä oppimisnopeusparamerin arvolla saatettaisiin päästä parempaan tulokseen. Koitetaan siis samaa mallia pienentämällä oppimisnopeus kymmenesosaan (lr=0.0001)."
   ]
  },
  {
   "cell_type": "code",
   "execution_count": 4,
   "metadata": {},
   "outputs": [
    {
     "name": "stdout",
     "output_type": "stream",
     "text": [
      "_________________________________________________________________\n",
      "Layer (type)                 Output Shape              Param #   \n",
      "=================================================================\n",
      "embedding_1 (Embedding)      (None, 1307, 300)         30000300  \n",
      "_________________________________________________________________\n",
      "conv1d_1 (Conv1D)            (None, 1303, 128)         192128    \n",
      "_________________________________________________________________\n",
      "global_max_pooling1d_1 (Glob (None, 128)               0         \n",
      "_________________________________________________________________\n",
      "dropout_1 (Dropout)          (None, 128)               0         \n",
      "_________________________________________________________________\n",
      "dense_1 (Dense)              (None, 64)                8256      \n",
      "_________________________________________________________________\n",
      "dense_2 (Dense)              (None, 10)                650       \n",
      "=================================================================\n",
      "Total params: 30,201,334\n",
      "Trainable params: 201,034\n",
      "Non-trainable params: 30,000,300\n",
      "_________________________________________________________________\n"
     ]
    }
   ],
   "source": [
    "model = models.Sequential()\n",
    "model.add(layers.Embedding(input_dim=100001, \n",
    "                           output_dim=300, \n",
    "                           weights = [embmatrix],\n",
    "                           input_length = 1307,\n",
    "                           trainable=False ))\n",
    "model.add(layers.Conv1D(128, 5, activation='relu'))\n",
    "model.add(layers.GlobalMaxPool1D())\n",
    "model.add(layers.Dropout(rate=0.5))\n",
    "model.add(layers.Dense(64, activation='relu'))\n",
    "model.add(layers.Dense(10, activation='softmax'))\n",
    "adam = optimizers.Adam(lr=0.0001)\n",
    "model.compile(optimizer=adam, \n",
    "              loss='categorical_crossentropy',\n",
    "              metrics=['accuracy'])\n",
    "model.summary()"
   ]
  },
  {
   "cell_type": "code",
   "execution_count": 6,
   "metadata": {},
   "outputs": [
    {
     "name": "stdout",
     "output_type": "stream",
     "text": [
      "Train on 100000 samples, validate on 10000 samples\n",
      "Epoch 1/30\n",
      "100000/100000 [==============================] - 4609s 46ms/step - loss: 2.0552 - acc: 0.3080 - val_loss: 1.7739 - val_acc: 0.4897\n",
      "Epoch 2/30\n",
      "100000/100000 [==============================] - 4451s 45ms/step - loss: 1.6676 - acc: 0.4739 - val_loss: 1.4046 - val_acc: 0.5871\n",
      "Epoch 3/30\n",
      "100000/100000 [==============================] - 4449s 44ms/step - loss: 1.4290 - acc: 0.5512 - val_loss: 1.2471 - val_acc: 0.6191\n",
      "Epoch 4/30\n",
      "100000/100000 [==============================] - 4448s 44ms/step - loss: 1.3136 - acc: 0.5855 - val_loss: 1.1690 - val_acc: 0.6362\n",
      "Epoch 5/30\n",
      "100000/100000 [==============================] - 4444s 44ms/step - loss: 1.2438 - acc: 0.6094 - val_loss: 1.1196 - val_acc: 0.6494\n",
      "Epoch 6/30\n",
      "100000/100000 [==============================] - 4450s 45ms/step - loss: 1.1902 - acc: 0.6253 - val_loss: 1.0861 - val_acc: 0.6583\n",
      "Epoch 7/30\n",
      "100000/100000 [==============================] - 4468s 45ms/step - loss: 1.1529 - acc: 0.6372 - val_loss: 1.0626 - val_acc: 0.6642\n",
      "Epoch 8/30\n",
      "100000/100000 [==============================] - 4447s 44ms/step - loss: 1.1228 - acc: 0.6482 - val_loss: 1.0422 - val_acc: 0.6718\n",
      "Epoch 9/30\n",
      "100000/100000 [==============================] - 4441s 44ms/step - loss: 1.0964 - acc: 0.6552 - val_loss: 1.0265 - val_acc: 0.6766\n",
      "Epoch 10/30\n",
      "100000/100000 [==============================] - 4441s 44ms/step - loss: 1.0757 - acc: 0.6630 - val_loss: 1.0153 - val_acc: 0.6798\n",
      "Epoch 11/30\n",
      "100000/100000 [==============================] - 4452s 45ms/step - loss: 1.0530 - acc: 0.6706 - val_loss: 1.0053 - val_acc: 0.6852\n",
      "Epoch 12/30\n",
      "100000/100000 [==============================] - 4473s 45ms/step - loss: 1.0392 - acc: 0.6730 - val_loss: 0.9969 - val_acc: 0.6880\n",
      "Epoch 13/30\n",
      "100000/100000 [==============================] - 4476s 45ms/step - loss: 1.0211 - acc: 0.6799 - val_loss: 0.9899 - val_acc: 0.6875\n",
      "Epoch 14/30\n",
      "100000/100000 [==============================] - 4451s 45ms/step - loss: 1.0053 - acc: 0.6841 - val_loss: 0.9839 - val_acc: 0.6901\n",
      "Epoch 15/30\n",
      "100000/100000 [==============================] - 4496s 45ms/step - loss: 0.9924 - acc: 0.6873 - val_loss: 0.9779 - val_acc: 0.6919\n",
      "Epoch 16/30\n",
      "100000/100000 [==============================] - 4446s 44ms/step - loss: 0.9798 - acc: 0.6904 - val_loss: 0.9742 - val_acc: 0.6916\n",
      "Epoch 17/30\n",
      "100000/100000 [==============================] - 4442s 44ms/step - loss: 0.9697 - acc: 0.6951 - val_loss: 0.9700 - val_acc: 0.6939\n",
      "Epoch 18/30\n",
      "100000/100000 [==============================] - 4455s 45ms/step - loss: 0.9563 - acc: 0.6990 - val_loss: 0.9663 - val_acc: 0.6943\n",
      "Epoch 19/30\n",
      "100000/100000 [==============================] - 4468s 45ms/step - loss: 0.9510 - acc: 0.7012 - val_loss: 0.9643 - val_acc: 0.6955\n",
      "Epoch 20/30\n",
      "100000/100000 [==============================] - 4443s 44ms/step - loss: 0.9390 - acc: 0.7038 - val_loss: 0.9606 - val_acc: 0.6968\n",
      "Epoch 21/30\n",
      "100000/100000 [==============================] - 4445s 44ms/step - loss: 0.9288 - acc: 0.7064 - val_loss: 0.9587 - val_acc: 0.6965\n",
      "Epoch 22/30\n",
      "100000/100000 [==============================] - 4448s 44ms/step - loss: 0.9188 - acc: 0.7098 - val_loss: 0.9569 - val_acc: 0.6982\n",
      "Epoch 23/30\n",
      "100000/100000 [==============================] - 4440s 44ms/step - loss: 0.9100 - acc: 0.7125 - val_loss: 0.9556 - val_acc: 0.6990\n",
      "Epoch 24/30\n",
      "100000/100000 [==============================] - 4452s 45ms/step - loss: 0.9027 - acc: 0.7165 - val_loss: 0.9557 - val_acc: 0.6953\n",
      "Epoch 25/30\n",
      "100000/100000 [==============================] - 4443s 44ms/step - loss: 0.8926 - acc: 0.7168 - val_loss: 0.9528 - val_acc: 0.6965\n",
      "Epoch 26/30\n",
      "100000/100000 [==============================] - 4462s 45ms/step - loss: 0.8851 - acc: 0.7199 - val_loss: 0.9528 - val_acc: 0.6983\n",
      "Epoch 27/30\n",
      "100000/100000 [==============================] - 4512s 45ms/step - loss: 0.8768 - acc: 0.7217 - val_loss: 0.9508 - val_acc: 0.6987\n",
      "Epoch 28/30\n",
      "100000/100000 [==============================] - 4448s 44ms/step - loss: 0.8701 - acc: 0.7243 - val_loss: 0.9494 - val_acc: 0.6968\n",
      "Epoch 29/30\n",
      "100000/100000 [==============================] - 4451s 45ms/step - loss: 0.8621 - acc: 0.7257 - val_loss: 0.9519 - val_acc: 0.6969\n",
      "Epoch 30/30\n",
      "100000/100000 [==============================] - 4469s 45ms/step - loss: 0.8543 - acc: 0.7295 - val_loss: 0.9490 - val_acc: 0.7012\n"
     ]
    },
    {
     "data": {
      "text/plain": [
       "0.7012"
      ]
     },
     "execution_count": 6,
     "metadata": {},
     "output_type": "execute_result"
    }
   ],
   "source": [
    "es = EarlyStopping(monitor='val_loss', min_delta=0, patience=2, verbose=0, \n",
    "                   mode='auto', baseline=None, restore_best_weights=True)\n",
    "\n",
    "history = model.fit(Xpad_train, labels_train, epochs= 30, batch_size=100, \n",
    "                    validation_data=(Xpad_dev, labels_dev), verbose = 1, callbacks=[es])\n",
    "\n",
    "_, val_acc = model.evaluate(Xpad_dev, labels_dev, verbose=0)\n",
    "val_acc"
   ]
  },
  {
   "cell_type": "code",
   "execution_count": 7,
   "metadata": {},
   "outputs": [
    {
     "data": {
      "image/png": "[encoded data removed]",
      "text/plain": [
       "<Figure size 432x288 with 1 Axes>"
      ]
     },
     "metadata": {
      "needs_background": "light"
     },
     "output_type": "display_data"
    }
   ],
   "source": [
    "plt.ylim(0,1.0)\n",
    "plt.plot(history.history[\"val_acc\"],label=\"Validointidatan tarkkuus\") \n",
    "plt.plot(history.history[\"acc\"],label=\"Koulutusdatan tarkkuus\")\n",
    "plt.legend()\n",
    "plt.show()"
   ]
  },
  {
   "cell_type": "markdown",
   "metadata": {},
   "source": [
    "Paras validointitulos 70,1% saatiin viimeisellä kierroksella, joten tulos olisi voinut vielä hiukan parantua, mikäli koulutusta olisi jatkettu kauemmin. Mallin koulutus kesti näinkin yli 36 tuntia, joten neuroverkon hienosäätö tavallisella koneella alkaa käydä mahdottomaksi."
   ]
  },
  {
   "cell_type": "code",
   "execution_count": 8,
   "metadata": {},
   "outputs": [
    {
     "data": {
      "text/plain": [
       "0.6854"
      ]
     },
     "execution_count": 8,
     "metadata": {},
     "output_type": "execute_result"
    }
   ],
   "source": [
    "_, val_acc = model.evaluate(Xpad_test, labels_test, verbose=0)\n",
    "val_acc"
   ]
  },
  {
   "cell_type": "markdown",
   "metadata": {},
   "source": [
    "Testidatalla tarkkuudeksi saatiin 68,5%. Tulos jäi huonommaksi kuin muilla menetelmillä. Sanaupotusvektorit oli koneeni muistirajoitteiden vuoksi käytössä vain 86570:lle sanalle, kun koko sanaston koko olisi ollut lähes 400 000. Tämä on todennäköisin syy sille, ettei sanaupotusvektoireita hyödyntämällä päästy parempaan tulokseen. Ilman sanaupotuksia koulutettu neuroverkko koulutettiin 100 000 sanalla ja sillä päästiin jo merkittävästi parempaan tarkkuutteen 73,6%."
   ]
  },
  {
   "cell_type": "markdown",
   "metadata": {},
   "source": [
    "### 4.7 Sanaupotuksia hyödyntävä konvoluutioneuroverkko CSC:n supertietokoneella\n",
    "Kotikoneen kapasiteettirajoitteiden vuoksi sanaupotuksia hyödyntävien neuroverkkojen luokittelutarkkuus jäi edellä varsin pieneksi. Katsotaan, millaisiin tuloksiin pääsemme CSC:n supertietokoneen Puhtin avulla, kun malliin voidaan ottaa mukaan kaikki koulutusdatan sanat ja hyperparametrien optimointikin on mahdollista järkevässä ajassa.\n",
    "\n",
    "Muodostetaan uudelleen matriisi, joka yhdistää koulutusaineiston viesteistä muodostetun sanaston sanat upotussanavektoreihin. Tällä kertaa upotussanamatrisiin otetaan mukaan kaikki sanat."
   ]
  },
  {
   "cell_type": "code",
   "execution_count": 5,
   "metadata": {},
   "outputs": [],
   "source": [
    "embmodel=KeyedVectors.load_word2vec_format(\"cc.fi.300.vec.gz\", binary=False)"
   ]
  },
  {
   "cell_type": "code",
   "execution_count": 6,
   "metadata": {},
   "outputs": [],
   "source": [
    "tokenizer = Tokenizer()\n",
    "tokenizer.fit_on_texts(X_train)\n",
    "\n",
    "word_index = tokenizer.word_index\n",
    "\n",
    "Xseq_train = tokenizer.texts_to_sequences(X_train)\n",
    "Xseq_dev = tokenizer.texts_to_sequences(X_dev)\n",
    "Xseq_test = tokenizer.texts_to_sequences(X_test)"
   ]
  },
  {
   "cell_type": "code",
   "execution_count": 7,
   "metadata": {},
   "outputs": [],
   "source": [
    "embmatrix_all =  np.zeros((len(word_index) + 1, 300))\n",
    "count = 0\n",
    "for word, i in word_index.items(): \n",
    "    if word in embmodel.vocab:\n",
    "        embmatrix_all[i] = embmodel.get_vector(word)\n",
    "        count += 1"
   ]
  },
  {
   "cell_type": "code",
   "execution_count": 10,
   "metadata": {},
   "outputs": [],
   "source": [
    "np.save('embmatrix_all.npy', embmatrix_all)"
   ]
  },
  {
   "cell_type": "code",
   "execution_count": 11,
   "metadata": {},
   "outputs": [
    {
     "name": "stdout",
     "output_type": "stream",
     "text": [
      "Koulutusdatassa on 399349 erilaista sanaa. Upotusvektori löytyi 212960 sanalle eli 53.33 prosentille.\n"
     ]
    }
   ],
   "source": [
    "print('Koulutusdatassa on',len(word_index), 'erilaista sanaa. ''Upotusvektori löytyi', count, 'sanalle eli', \n",
    "     '%.2f' % (100*count/len(word_index)), 'prosentille.')"
   ]
  },
  {
   "cell_type": "markdown",
   "metadata": {},
   "source": [
    "Tämä on huomattavasti enemmän kuin aikaisemmassa matriisissa, jossa upotusvektorit löytyi vain 86570:lle sanalle. "
   ]
  },
  {
   "cell_type": "markdown",
   "metadata": {},
   "source": [
    "Jos omat käyttöoikeudet on olemassa, Puhtiin saa SSH-yhteyden Windows-koneella esim käyttämällä PuTTYä (https://putty.org/). Tiedostojen siirtelyyn oman koneen ja Puhtin välillä käytin FileZillaa (https://filezilla-project.org/). CSC:n kattavat Linux-ohjeet löytyvät täältä: https://research.csc.fi/csc-guide-linux-basics-for-csc.\n",
    "\n",
    "Puhti käyttää SLURM-ajonhallintajärjestelmää. Työn saamiseksi ajoon, tarvitaan määrämuotoinen .sh-päätteinen eräajotiedosto, joka lähetetään töiden aikatauluttajalle komennolla sbatch. Eräajotiedoston voi kirjoittaa tavallisella tekstieditorilla (käytin tässä Nanoa). \n",
    "\n",
    "Eräajotiedoston sisältö:"
   ]
  },
  {
   "cell_type": "code",
   "execution_count": null,
   "metadata": {},
   "outputs": [],
   "source": [
    "#!/bin/bash\n",
    "#SBATCH --job-name=testi\n",
    "#SBATCH --account=Project_XXX\n",
    "#SBATCH --partition=gpu\n",
    "#SBATCH --time=01:00:00\n",
    "#SBATCH --mem-per-cpu=2G\n",
    "#SBATCH --gres=gpu:v100:1\n",
    "\n",
    "module purge\n",
    "module load tensorflow\n",
    "export OMP_NUM_THREADS=$SLURM_CPUS_PER_TASK\n",
    "\n",
    "python CNN.py"
   ]
  },
  {
   "cell_type": "markdown",
   "metadata": {},
   "source": [
    "Ajetaan supertietokoneella seuraavaa koodia (yllä tiedosto CNN.py) vastaava osuus erilaisilla ohjausparametrien arvoilla: "
   ]
  },
  {
   "cell_type": "code",
   "execution_count": null,
   "metadata": {},
   "outputs": [],
   "source": [
    "max_words = len(Xpad_train[0])\n",
    "different_words = embmatrix_all.shape[0]\n",
    "dim = embmatrix_all.shape[1]\n",
    "\n",
    "model = models.Sequential()\n",
    "model.add(layers.Embedding(input_dim=different_words, \n",
    "                           output_dim=dim, \n",
    "                           weights = [embmatrix_all],\n",
    "                           input_length = max_words,\n",
    "                           trainable=False ))\n",
    "model.add(layers.Conv1D(filters, kernel_size, activation='relu'))\n",
    "model.add(layers.GlobalMaxPool1D())\n",
    "model.add(layers.Dropout(rate=0.5))\n",
    "model.add(layers.Dense(dim1, activation='relu'))\n",
    "model.add(layers.Dense(10, activation='softmax'))\n",
    "adam = optimizers.Adam(lr=lr)\n",
    "model.compile(optimizer=adam, \n",
    "              loss='categorical_crossentropy',\n",
    "              metrics=['accuracy'])\n",
    "\n",
    "es = EarlyStopping(monitor='val_loss', min_delta=0, patience= patience, verbose=0, \n",
    "                   mode='auto', baseline=None, restore_best_weights=True)\n",
    "\n",
    "history = model.fit(Xpad_train, labels_train, epochs= epochs, batch_size= batch_size, \n",
    "                    validation_data=(Xpad_dev, labels_dev), verbose = 0, callbacks=[es])\n",
    "\n",
    "_, val_acc = model.evaluate(Xpad_dev, labels_dev, verbose=0)\n",
    "print('Tarkkuus validointidatalla', val_acc)\n",
    "\n",
    "_, val_acc = model.evaluate(Xpad_test, labels_test, verbose=0)\n",
    "print('Tarkkuus testidatalla', val_acc)\n"
   ]
  },
  {
   "cell_type": "markdown",
   "metadata": {},
   "source": [
    "1. Ajetaan ensin samoilla ohjausparametreilla kuin viimeisin paras tulos:\n",
    "filters = 128,\n",
    "kernel_size = 5,\n",
    "lr = 0.0001,\n",
    "patience = 2,\n",
    "epochs = 100,\n",
    "batch_size = 100,\n",
    "dim1 = 64. Tällä kertaa mallissa on siis mukana kaikki sanat, joille löytyi upotusvektorit.\n",
    "\n",
    "        Tulos: tarkkuus validointidatalla 72,4%, tarkkuus testidatalla 71,1%.\n",
    "\n",
    "2. Sama ilman ensimmäistä Dense-kerrosta:\n",
    "\n",
    "        Tulos: tarkkuus validointidatalla 72,5%, tarkkuus testidatalla 71,5%.\n",
    "        Tulos parani, joten jatketaan tämän yksinkertaisemman mallin optimoimista.\n",
    "\n",
    "3. Edellinen, mutta trainable-arvolla 'True' eli nyt upotussanavektoreita edelleenkoulutetaan testiaineistolla:\n",
    "\n",
    "        Tulos: tarkkuus validointidatalla 75,9%, tarkkuus testidatalla 74,2%.\n",
    "        Saimme tähän mennessä parhaan tuloksen. \n",
    "        Katsotaan, saadaanko tulosta vielä paremmaksi hyperparametrejä (filters, kernel_size ja lr) säätämällä.\n",
    "\n",
    "4. Edellinen, kernel_size = 4 ja 3:\n",
    "\n",
    "        Tulos, kernel_size = 4: tarkkuus validointidatalla 75,8%, tarkkuus testidatalla 74,1%.\n",
    "        Tulos, kernel_size = 3: tarkkuus validointidatalla 75,1%, tarkkuus testidatalla 73,7%.\n",
    "        Tulokset huononivat kernel_sizeä pienennettäessä.\n",
    "\n",
    "5. Tuplataan filters = 256, kernel_size = 5, 4 ja 3:\n",
    "\n",
    "        Tulos, kernel_size = 5: tarkkuus validointidatalla 76,5%, tarkkuus testidatalla 74,2%.\n",
    "        Tulos, kernel_size = 4: tarkkuus validointidatalla 76,2%, tarkkuus testidatalla 74,3%.\n",
    "        Tulos, kernel_size = 3: tarkkuus validointidatalla 76,2%, tarkkuus testidatalla 74,4%.\n",
    "        Isommalla filters-arvolla saatiin parempia tuloksia.\n",
    "        \n",
    "6. Edellinen (filters = 256, kernel_size = 5, 4 ja 3), puolitetaan lr = 0,00005:\n",
    "\n",
    "        Tulos, kernel_size = 5: tarkkuus validointidatalla 76,3%, tarkkuus testidatalla 74,4%.\n",
    "        Tulos, kernel_size = 4: tarkkuus validointidatalla 76,0%, tarkkuus testidatalla 74,2%.\n",
    "        Tulos, kernel_size = 3: tarkkuus validointidatalla 75,8%, tarkkuus testidatalla 73,9%.\n",
    "        Oppimisnopeutta säätelevän lr-parametrin puolittaminen ei parantanut tuloksia.\n",
    "        \n",
    "        \n",
    "Jotta lopullisen mallin testidata pysyisi puolueettomana, sen perusteella laskettuja tarkkuusarvoja ei voi käyttää parhaan mallin valitsemiseen. Kun paras malli valitaan validointidatan perusteella, paras malli saatiin koulutettua arvoilla:\n",
    "filters = 256,\n",
    "kernel_size = 5,\n",
    "lr = 0.0001,\n",
    "patience = 2,\n",
    "epochs = 100,\n",
    "batch_size = 100. Tämän mallin tarkkuudeksi testidatalla saatiin 74,2%\n",
    "\n",
    "Näiden 11 neuroverkon opettaminen supertietokoneella kesti yhteensä muutaman tunnin. Yhdenkään näin ison mallin (sanaupotusvektorit yli 200 000 sanalle) opettaminen ei olisi ollut mahdollista kotikoneellani. Suurimman lähinnä näitä vastaavan neuroverkon opettaminen kesti kotikoneella yli 36 tuntia."
   ]
  },
  {
   "cell_type": "markdown",
   "metadata": {},
   "source": [
    "## 5. Yhteenveto eri luokittelumenetelmistä\n",
    "Olemme edellä kouluttaneet luokittelijoita erilaisilla menetelmillä: \n",
    "* Naive Bayes: validointidatalla tarkkuus 73.1%, testiaineistolla 71,6%.\n",
    "* Tukivektorikone: validointidatalla tarkkuus 74,0%, testiaineostolla 72,0%\n",
    "* Neuroverkko 100000 sanalla: validointidatalla tarkkuus 75,5%, testiaineistolla 73,6%.\n",
    "* Konvoluutioneuroverkko esikoulutetuilla sanaupotuksilla, 100000 sanalla: validointidatalla tarkkuus 70,1%, testiaineistolla 68,5%.\n",
    "* Konvoluutioneuroverkko esikoulutetuilla sanaupotuksilla, kaikilla sanoilla, sanaupotusten edelleenkoulutuksella: validointidatalla tarkkuus 76,5%, testiaineistolla 74,2%.\n",
    "\n",
    "Paras tulos (testiaineistolla evaluoitu tarkkuus 74,2%) saavutettiin käyttäen konvoluutioneuroverkkoa esikoulutetuilla sanaupotuksilla, jossa neuroverkko vielä edelleenkoulutti sanaupotuksia. Tämän mallin kouluttaminen ei ollut mahdollista kotikoneella, joten siihen käytettiin CSC:n supertietokone Puhtia."
   ]
  },
  {
   "cell_type": "markdown",
   "metadata": {},
   "source": [
    "## Kiitokset\n",
    "Olen tehnyt tämän työkirjan erikoistyönä osana Turun yliopiston Tekoälyn maisteriohjelmaa. Lämpimät kiitokset ohjaajalleni apulaisprofessori Sampo Pyysalolle, joka kannusti mm. opettelemaan Puhtin käyttöä!\n",
    "\n",
    "Espoossa 31.12.2019 \n",
    "\n",
    "Marita Risku, marita.h.risku@utu.fi"
   ]
  }
 ],
 "metadata": {
  "kernelspec": {
   "display_name": "Python 3",
   "language": "python",
   "name": "python3"
  },
  "language_info": {
   "codemirror_mode": {
    "name": "ipython",
    "version": 3
   },
   "file_extension": ".py",
   "mimetype": "text/x-python",
   "name": "python",
   "nbconvert_exporter": "python",
   "pygments_lexer": "ipython3",
   "version": "3.7.0"
  }
 },
 "nbformat": 4,
 "nbformat_minor": 2
}
